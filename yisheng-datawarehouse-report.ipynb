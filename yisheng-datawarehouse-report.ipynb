{
 "cells": [
  {
   "cell_type": "markdown",
   "metadata": {},
   "source": [
    "## Datawarehouse ##\n",
    "In this project, we have to deal with different types of airbnb data from Q3 2021 to Q3 2022 fro Washington D.C. The data includes listings, reviews, calendar and neighbourhood. As a secondary dataset, we chose to use the crime data for the same time range in Washington D.C which we have introduced it in the README file.\n",
    "\n",
    "In order to create the database for further steps of the project, we created this datawarehouse.py script to load the data into the ps6.duckdb. The datawarehouse was fully encapsulated as DatawareHouse class and initialize the connection to the database in the constructor. We have many different methods defined in the class, such as createAllListings, createNeighborhood, createReviews, createCalendar and createCrime. The main functionality for those methods are loading the CSV file for different types of data and create the table and insert the data into those tables. There are also some data cleaning in the methods, for example we convert the price into float type and also append the neighbourhood for each crime. Otherthan that, we also create couple views in the database to make the further analysis easier. We have latest_listings, last_scraped, neighborhood_crimes and full_latest_listings. Those views are helpful when we did the work in the ASK step and EDA step.\n",
    "\n",
    "### How to run the script ###\n",
    "The primary and secondary source data files must be stored in the AirBnB_WashDC subdirectory.\n",
    "\n",
    "after running the script, all the data needed for ASK, EDA and modeling steps will be loaded into the ps6.duckdb. You will see 6 tables and 4 views got created."
   ]
  },
  {
   "cell_type": "code",
   "execution_count": 7,
   "metadata": {},
   "outputs": [
    {
     "name": "stdout",
     "output_type": "stream",
     "text": [
      "all_listing tables have been created\n",
      "neighborhoods table has been created\n",
      "calendar12_2021.csv\n",
      "calendar03_2022.csv\n",
      "calendar06_2022.csv\n",
      "calendar09_2022.csv\n",
      "calendar12_2021.csv  cleaned\n",
      "calendar03_2022.csv  cleaned\n",
      "calendar06_2022.csv  cleaned\n",
      "calendar09_2022.csv  cleaned\n",
      "calendar tables have been created\n",
      "crime tables have been created\n"
     ]
    }
   ],
   "source": [
    "%run -i 'datawarehouse.py'"
   ]
  }
 ],
 "metadata": {
  "interpreter": {
   "hash": "aee8b7b246df8f9039afb4144a1f6fd8d2ca17a180786b69acc140d282b71a49"
  },
  "kernelspec": {
   "display_name": "Python 3.9.13 64-bit",
   "language": "python",
   "name": "python3"
  },
  "language_info": {
   "codemirror_mode": {
    "name": "ipython",
    "version": 3
   },
   "file_extension": ".py",
   "mimetype": "text/x-python",
   "name": "python",
   "nbconvert_exporter": "python",
   "pygments_lexer": "ipython3",
   "version": "3.9.13"
  },
  "orig_nbformat": 4
 },
 "nbformat": 4,
 "nbformat_minor": 2
}
