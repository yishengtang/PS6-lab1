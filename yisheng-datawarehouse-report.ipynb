{
 "cells": [
  {
   "cell_type": "markdown",
   "metadata": {},
   "source": [
    "## Datawarehouse ##\n",
    "In this project, we have to deal with different types of airbnb data from Q3 2021 to Q3 2022 fro Washington D.C. The data includes listings, reviews, calendar and neighbourhood. As a secondary dataset, we chose to use the crime data for the same time range in Washington D.C which we have introduced it in the README file.\n",
    "\n",
    "In order to create the database for further steps of the project, we created this datawarehouse.py script to load the data into the ps6.duckdb. The datawarehouse was fully encapsulated as DatawareHouse class and initialize the connection to the database in the constructor. We have many different methods defined in the class, such as createAllListings, createNeighborhood, createReviews, createCalendar and createCrime. The main functionality for those methods are loading the CSV file for different types of data and create the table and insert the data into those tables. There are also some data cleaning in the methods, for example we convert the price into float type and also append the neighbourhood for each crime. Otherthan that, we also create couple views in the database to make the further analysis easier. We have latest_listings, last_scraped, neighborhood_crimes and full_latest_listings. Those views are helpful when we did the work in the ASK step and EDA step. \n",
    "\n",
    "after running the script, all the data needed for ASK, EDA and modeling steps will be loaded into the ps6.duckdb. You will see 6 tables and 4 views got created."
   ]
  }
 ],
 "metadata": {
  "language_info": {
   "name": "python"
  },
  "orig_nbformat": 4
 },
 "nbformat": 4,
 "nbformat_minor": 2
}
