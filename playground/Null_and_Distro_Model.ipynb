{
 "cells": [
  {
   "cell_type": "code",
   "execution_count": null,
   "metadata": {},
   "outputs": [],
   "source": []
  },
  {
   "cell_type": "markdown",
   "metadata": {},
   "source": [
    "# Null Model and Distributional Model\n",
    "The target variable is price. We'll create a null model and distributional model for this.\n",
    "\n",
    "\n"
   ]
  },
  {
   "cell_type": "code",
   "execution_count": 1,
   "metadata": {},
   "outputs": [],
   "source": [
    "%matplotlib inline"
   ]
  },
  {
   "cell_type": "code",
   "execution_count": 11,
   "metadata": {},
   "outputs": [],
   "source": [
    "import numpy as np\n",
    "import time\n",
    "import seaborn as sns\n",
    "import matplotlib.pyplot as plt\n",
    "import scipy.stats as stats\n",
    "import pandas as pd\n",
    "import duckdb\n",
    "from pandas.api.types import is_numeric_dtype\n",
    "from tabulate import tabulate\n",
    "\n",
    "sns.set(style=\"whitegrid\")\n",
    "\n",
    "THEME = \"darkslategray\"\n"
   ]
  },
  {
   "cell_type": "code",
   "execution_count": 3,
   "metadata": {},
   "outputs": [
    {
     "name": "stdout",
     "output_type": "stream",
     "text": [
      "0.5.1\n"
     ]
    }
   ],
   "source": [
    "print(duckdb.__version__)"
   ]
  },
  {
   "cell_type": "code",
   "execution_count": 4,
   "metadata": {},
   "outputs": [],
   "source": [
    "import warnings\n",
    "warnings.filterwarnings('ignore')"
   ]
  },
  {
   "cell_type": "markdown",
   "metadata": {},
   "source": [
    "## Connect/create duckDB file"
   ]
  },
  {
   "cell_type": "code",
   "execution_count": 5,
   "metadata": {},
   "outputs": [],
   "source": [
    "con = duckdb.connect(database='PS6.duckdb', read_only=True)\n"
   ]
  },
  {
   "cell_type": "markdown",
   "metadata": {},
   "source": [
    "# Get the Data"
   ]
  },
  {
   "cell_type": "code",
   "execution_count": 8,
   "metadata": {},
   "outputs": [
    {
     "name": "stdout",
     "output_type": "stream",
     "text": [
      "<class 'pandas.core.frame.DataFrame'>\n",
      "RangeIndex: 10560 entries, 0 to 10559\n",
      "Data columns (total 75 columns):\n",
      " #   Column                                        Non-Null Count  Dtype         \n",
      "---  ------                                        --------------  -----         \n",
      " 0   id                                            10560 non-null  int64         \n",
      " 1   listing_url                                   10560 non-null  object        \n",
      " 2   scrape_id                                     10560 non-null  int64         \n",
      " 3   last_scraped                                  10560 non-null  datetime64[ns]\n",
      " 4   name                                          10559 non-null  object        \n",
      " 5   description                                   10416 non-null  object        \n",
      " 6   neighborhood_overview                         6559 non-null   object        \n",
      " 7   picture_url                                   10560 non-null  object        \n",
      " 8   host_id                                       10560 non-null  int32         \n",
      " 9   host_url                                      10560 non-null  object        \n",
      " 10  host_name                                     10398 non-null  object        \n",
      " 11  host_since                                    10398 non-null  datetime64[ns]\n",
      " 12  host_location                                 9548 non-null   object        \n",
      " 13  host_about                                    6013 non-null   object        \n",
      " 14  host_response_time                            10398 non-null  object        \n",
      " 15  host_response_rate                            10398 non-null  object        \n",
      " 16  host_acceptance_rate                          10398 non-null  object        \n",
      " 17  host_is_superhost                             10554 non-null  object        \n",
      " 18  host_thumbnail_url                            10398 non-null  object        \n",
      " 19  host_picture_url                              10398 non-null  object        \n",
      " 20  host_neighbourhood                            9583 non-null   object        \n",
      " 21  host_listings_count                           10398 non-null  float64       \n",
      " 22  host_total_listings_count                     10398 non-null  float64       \n",
      " 23  host_verifications                            10560 non-null  object        \n",
      " 24  host_has_profile_pic                          10398 non-null  object        \n",
      " 25  host_identity_verified                        10398 non-null  object        \n",
      " 26  neighbourhood                                 6559 non-null   object        \n",
      " 27  neighbourhood_cleansed                        10560 non-null  object        \n",
      " 28  neighbourhood_group_cleansed                  0 non-null      object        \n",
      " 29  latitude                                      10560 non-null  float64       \n",
      " 30  longitude                                     10560 non-null  float64       \n",
      " 31  property_type                                 10560 non-null  object        \n",
      " 32  room_type                                     10560 non-null  object        \n",
      " 33  accommodates                                  10560 non-null  int32         \n",
      " 34  bathrooms                                     0 non-null      object        \n",
      " 35  bathrooms_text                                10546 non-null  object        \n",
      " 36  bedrooms                                      9600 non-null   float64       \n",
      " 37  beds                                          10291 non-null  float64       \n",
      " 38  amenities                                     10560 non-null  object        \n",
      " 39  price_text                                    10560 non-null  object        \n",
      " 40  minimum_nights                                10560 non-null  int32         \n",
      " 41  maximum_nights                                10560 non-null  int32         \n",
      " 42  minimum_minimum_nights                        10557 non-null  float64       \n",
      " 43  maximum_minimum_nights                        10557 non-null  float64       \n",
      " 44  minimum_maximum_nights                        10557 non-null  float64       \n",
      " 45  maximum_maximum_nights                        10557 non-null  float64       \n",
      " 46  minimum_nights_avg_ntm                        10557 non-null  float64       \n",
      " 47  maximum_nights_avg_ntm                        10557 non-null  float64       \n",
      " 48  calendar_updated                              0 non-null      object        \n",
      " 49  has_availability                              10560 non-null  bool          \n",
      " 50  availability_30                               10560 non-null  int32         \n",
      " 51  availability_60                               10560 non-null  int32         \n",
      " 52  availability_90                               10560 non-null  int32         \n",
      " 53  availability_365                              10560 non-null  int32         \n",
      " 54  calendar_last_scraped                         10560 non-null  datetime64[ns]\n",
      " 55  number_of_reviews                             10560 non-null  int32         \n",
      " 56  number_of_reviews_ltm                         10560 non-null  int32         \n",
      " 57  number_of_reviews_l30d                        10560 non-null  int32         \n",
      " 58  first_review                                  7740 non-null   datetime64[ns]\n",
      " 59  last_review                                   7740 non-null   datetime64[ns]\n",
      " 60  review_scores_rating                          7740 non-null   float64       \n",
      " 61  review_scores_accuracy                        7656 non-null   float64       \n",
      " 62  review_scores_cleanliness                     7657 non-null   float64       \n",
      " 63  review_scores_checkin                         7654 non-null   float64       \n",
      " 64  review_scores_communication                   7657 non-null   float64       \n",
      " 65  review_scores_location                        7655 non-null   float64       \n",
      " 66  review_scores_value                           7652 non-null   float64       \n",
      " 67  license                                       3427 non-null   object        \n",
      " 68  instant_bookable                              10560 non-null  bool          \n",
      " 69  calculated_host_listings_count                10560 non-null  int32         \n",
      " 70  calculated_host_listings_count_entire_homes   10560 non-null  int32         \n",
      " 71  calculated_host_listings_count_private_rooms  10560 non-null  int32         \n",
      " 72  calculated_host_listings_count_shared_rooms   10560 non-null  int32         \n",
      " 73  reviews_per_month                             7740 non-null   float64       \n",
      " 74  price                                         10560 non-null  float64       \n",
      "dtypes: bool(2), datetime64[ns](5), float64(21), int32(15), int64(2), object(30)\n",
      "memory usage: 5.3+ MB\n"
     ]
    }
   ],
   "source": [
    "all_listings = con.execute('''select * from latest_listings;''').df()\n",
    "all_listings.info()"
   ]
  },
  {
   "cell_type": "markdown",
   "metadata": {},
   "source": [
    "# Price Data Filtering\n",
    "\n",
    "In EDA, we discovered a few filters that could be used to remove erroneous data (e.g. free rooms that accomodate 0 people):\n",
    "\n",
    "* Price is 0\n",
    "* Accommodates is 0"
   ]
  },
  {
   "cell_type": "code",
   "execution_count": 9,
   "metadata": {},
   "outputs": [
    {
     "name": "stdout",
     "output_type": "stream",
     "text": [
      "<class 'pandas.core.frame.DataFrame'>\n",
      "Int64Index: 10554 entries, 0 to 10559\n",
      "Data columns (total 75 columns):\n",
      " #   Column                                        Non-Null Count  Dtype         \n",
      "---  ------                                        --------------  -----         \n",
      " 0   id                                            10554 non-null  int64         \n",
      " 1   listing_url                                   10554 non-null  object        \n",
      " 2   scrape_id                                     10554 non-null  int64         \n",
      " 3   last_scraped                                  10554 non-null  datetime64[ns]\n",
      " 4   name                                          10553 non-null  object        \n",
      " 5   description                                   10416 non-null  object        \n",
      " 6   neighborhood_overview                         6559 non-null   object        \n",
      " 7   picture_url                                   10554 non-null  object        \n",
      " 8   host_id                                       10554 non-null  int32         \n",
      " 9   host_url                                      10554 non-null  object        \n",
      " 10  host_name                                     10392 non-null  object        \n",
      " 11  host_since                                    10392 non-null  datetime64[ns]\n",
      " 12  host_location                                 9543 non-null   object        \n",
      " 13  host_about                                    6011 non-null   object        \n",
      " 14  host_response_time                            10392 non-null  object        \n",
      " 15  host_response_rate                            10392 non-null  object        \n",
      " 16  host_acceptance_rate                          10392 non-null  object        \n",
      " 17  host_is_superhost                             10551 non-null  object        \n",
      " 18  host_thumbnail_url                            10392 non-null  object        \n",
      " 19  host_picture_url                              10392 non-null  object        \n",
      " 20  host_neighbourhood                            9577 non-null   object        \n",
      " 21  host_listings_count                           10392 non-null  float64       \n",
      " 22  host_total_listings_count                     10392 non-null  float64       \n",
      " 23  host_verifications                            10554 non-null  object        \n",
      " 24  host_has_profile_pic                          10392 non-null  object        \n",
      " 25  host_identity_verified                        10392 non-null  object        \n",
      " 26  neighbourhood                                 6559 non-null   object        \n",
      " 27  neighbourhood_cleansed                        10554 non-null  object        \n",
      " 28  neighbourhood_group_cleansed                  0 non-null      object        \n",
      " 29  latitude                                      10554 non-null  float64       \n",
      " 30  longitude                                     10554 non-null  float64       \n",
      " 31  property_type                                 10554 non-null  object        \n",
      " 32  room_type                                     10554 non-null  object        \n",
      " 33  accommodates                                  10554 non-null  int32         \n",
      " 34  bathrooms                                     0 non-null      object        \n",
      " 35  bathrooms_text                                10546 non-null  object        \n",
      " 36  bedrooms                                      9600 non-null   float64       \n",
      " 37  beds                                          10291 non-null  float64       \n",
      " 38  amenities                                     10554 non-null  object        \n",
      " 39  price_text                                    10554 non-null  object        \n",
      " 40  minimum_nights                                10554 non-null  int32         \n",
      " 41  maximum_nights                                10554 non-null  int32         \n",
      " 42  minimum_minimum_nights                        10554 non-null  float64       \n",
      " 43  maximum_minimum_nights                        10554 non-null  float64       \n",
      " 44  minimum_maximum_nights                        10554 non-null  float64       \n",
      " 45  maximum_maximum_nights                        10554 non-null  float64       \n",
      " 46  minimum_nights_avg_ntm                        10554 non-null  float64       \n",
      " 47  maximum_nights_avg_ntm                        10554 non-null  float64       \n",
      " 48  calendar_updated                              0 non-null      object        \n",
      " 49  has_availability                              10554 non-null  bool          \n",
      " 50  availability_30                               10554 non-null  int32         \n",
      " 51  availability_60                               10554 non-null  int32         \n",
      " 52  availability_90                               10554 non-null  int32         \n",
      " 53  availability_365                              10554 non-null  int32         \n",
      " 54  calendar_last_scraped                         10554 non-null  datetime64[ns]\n",
      " 55  number_of_reviews                             10554 non-null  int32         \n",
      " 56  number_of_reviews_ltm                         10554 non-null  int32         \n",
      " 57  number_of_reviews_l30d                        10554 non-null  int32         \n",
      " 58  first_review                                  7739 non-null   datetime64[ns]\n",
      " 59  last_review                                   7739 non-null   datetime64[ns]\n",
      " 60  review_scores_rating                          7739 non-null   float64       \n",
      " 61  review_scores_accuracy                        7655 non-null   float64       \n",
      " 62  review_scores_cleanliness                     7656 non-null   float64       \n",
      " 63  review_scores_checkin                         7653 non-null   float64       \n",
      " 64  review_scores_communication                   7656 non-null   float64       \n",
      " 65  review_scores_location                        7654 non-null   float64       \n",
      " 66  review_scores_value                           7651 non-null   float64       \n",
      " 67  license                                       3427 non-null   object        \n",
      " 68  instant_bookable                              10554 non-null  bool          \n",
      " 69  calculated_host_listings_count                10554 non-null  int32         \n",
      " 70  calculated_host_listings_count_entire_homes   10554 non-null  int32         \n",
      " 71  calculated_host_listings_count_private_rooms  10554 non-null  int32         \n",
      " 72  calculated_host_listings_count_shared_rooms   10554 non-null  int32         \n",
      " 73  reviews_per_month                             7739 non-null   float64       \n",
      " 74  price                                         10554 non-null  float64       \n",
      "dtypes: bool(2), datetime64[ns](5), float64(21), int32(15), int64(2), object(30)\n",
      "memory usage: 5.4+ MB\n"
     ]
    }
   ],
   "source": [
    "price_positive = all_listings.price > 0\n",
    "accomodates_positive = all_listings.accommodates > 0\n",
    "\n",
    "listings = all_listings[price_positive & accomodates_positive]\n",
    "listings.info()"
   ]
  },
  {
   "cell_type": "markdown",
   "metadata": {},
   "source": [
    "We'll work from this data set."
   ]
  },
  {
   "cell_type": "markdown",
   "metadata": {},
   "source": [
    "# Distribution"
   ]
  },
  {
   "cell_type": "code",
   "execution_count": 19,
   "metadata": {},
   "outputs": [
    {
     "data": {
      "text/plain": [
       "count    10554.000000\n",
       "mean       198.294486\n",
       "std        422.557271\n",
       "min         10.000000\n",
       "25%         85.000000\n",
       "50%        129.000000\n",
       "75%        206.000000\n",
       "max      24999.000000\n",
       "Name: price, dtype: float64"
      ]
     },
     "execution_count": 19,
     "metadata": {},
     "output_type": "execute_result"
    }
   ],
   "source": [
    "listings.price.describe()"
   ]
  },
  {
   "cell_type": "markdown",
   "metadata": {},
   "source": [
    "The prices are concentrated on the left side of the distribution, with the 25th percentile at 85 and the median at $129 ($44 difference). Compare this to the right side of the distribution going from the median at $129 to the 75th percentile at $206 ($77 difference).  \n",
    "\n",
    "On top of this, the minimum is at $10, $119 away from the median, but the maximum is at $24,999, which dwarfs the median.\n",
    "\n"
   ]
  },
  {
   "cell_type": "code",
   "execution_count": 21,
   "metadata": {},
   "outputs": [
    {
     "data": {
      "text/plain": [
       "count     2632.000000\n",
       "mean       461.794073\n",
       "std        785.586077\n",
       "min        207.000000\n",
       "25%        246.000000\n",
       "50%        300.000000\n",
       "75%        437.000000\n",
       "max      24999.000000\n",
       "Name: price, dtype: float64"
      ]
     },
     "execution_count": 21,
     "metadata": {},
     "output_type": "execute_result"
    }
   ],
   "source": [
    "upper_quartile_prices = listings[listings.price > 206]\n",
    "upper_quartile_prices.price.describe()"
   ]
  },
  {
   "cell_type": "markdown",
   "metadata": {},
   "source": [
    "Looking at just the upper quartile of prices, 75% of these are below $437."
   ]
  },
  {
   "cell_type": "code",
   "execution_count": 13,
   "metadata": {},
   "outputs": [],
   "source": [
    "## Code taken from Lab 5 solution\n",
    "def freeman_diaconis( data):\n",
    "    quartiles = stats.mstats.mquantiles( data, [0.25, 0.5, 0.75])\n",
    "    iqr = quartiles[2] - quartiles[ 0]\n",
    "    n = len( data)\n",
    "    h = 2.0 * (iqr/n**(1.0/3.0))\n",
    "    return int( h)"
   ]
  },
  {
   "cell_type": "code",
   "execution_count": 14,
   "metadata": {},
   "outputs": [
    {
     "name": "stdout",
     "output_type": "stream",
     "text": [
      "Freeman Diaconis:  11\n"
     ]
    },
    {
     "data": {
      "image/png": "[encoded data removed]",
      "text/plain": [
       "<Figure size 1000x600 with 1 Axes>"
      ]
     },
     "metadata": {},
     "output_type": "display_data"
    }
   ],
   "source": [
    "h = freeman_diaconis(listings.price)\n",
    "plot_data = listings.price\n",
    "variable_name = \"price\"\n",
    "print(\"Freeman Diaconis: \", h)\n",
    "mn = int(plot_data.min())\n",
    "mx = int(plot_data.max())\n",
    "bins = [i for i in range( mn, mx, h)]\n",
    "\n",
    "figure = plt.figure(figsize=(10, 6))\n",
    "\n",
    "axes = figure.add_subplot(1, 1, 1)\n",
    "axes.hist(plot_data,bins=bins, color=\"darkslategray\")\n",
    "axes.set_title(variable_name + \" distribution - Freeman Diaconis\")\n",
    "axes.set_xlabel(variable_name)\n",
    "\n",
    "plt.show()\n",
    "plt.close()"
   ]
  },
  {
   "cell_type": "markdown",
   "metadata": {},
   "source": [
    "Using freeman-diaconis to bin the prices, the resulting plot is not readable. We know that the maximum at $24,999 and the other extreme high priced-values will require some work to plot.  \n",
    "\n",
    "This time, we'll manually set the bins."
   ]
  },
  {
   "cell_type": "code",
   "execution_count": 16,
   "metadata": {},
   "outputs": [
    {
     "data": {
      "image/png": "[encoded data removed]",
      "text/plain": [
       "<Figure size 1000x600 with 1 Axes>"
      ]
     },
     "metadata": {},
     "output_type": "display_data"
    }
   ],
   "source": [
    "#h = freeman_diaconis(listings.price)\n",
    "plot_data = listings.price\n",
    "variable_name = \"price\"\n",
    "#print(\"Freeman Diaconis: \", h)\n",
    "#mn = int(plot_data.min())\n",
    "#mx = int(plot_data.max())\n",
    "#bins = [i for i in range( mn, mx, h)]\n",
    "\n",
    "figure = plt.figure(figsize=(10, 6))\n",
    "\n",
    "axes = figure.add_subplot(1, 1, 1)\n",
    "axes.hist(plot_data, bins=range(0,26000,100),color=\"darkslategray\")\n",
    "axes.set_title(variable_name + \" distribution - Freeman Diaconis\")\n",
    "axes.set_xlabel(variable_name)\n",
    "\n",
    "plt.show()\n",
    "plt.close()"
   ]
  },
  {
   "cell_type": "markdown",
   "metadata": {},
   "source": [
    "This is still difficult to read.  \n",
    "\n",
    "We'll need to restrict the plotting window further."
   ]
  },
  {
   "cell_type": "code",
   "execution_count": 26,
   "metadata": {},
   "outputs": [
    {
     "data": {
      "text/plain": [
       "0.9482660602615123"
      ]
     },
     "execution_count": 26,
     "metadata": {},
     "output_type": "execute_result"
    }
   ],
   "source": [
    "pct_data_plotted = listings[listings.price < 500].shape[0] / listings.shape[0]\n",
    "pct_data_plotted"
   ]
  },
  {
   "cell_type": "markdown",
   "metadata": {},
   "source": [
    "95% of the price data is below $500. We'll use that for our x limit in the plot below."
   ]
  },
  {
   "cell_type": "code",
   "execution_count": 23,
   "metadata": {},
   "outputs": [
    {
     "data": {
      "image/png": "[encoded data removed]",
      "text/plain": [
       "<Figure size 1000x600 with 1 Axes>"
      ]
     },
     "metadata": {},
     "output_type": "display_data"
    }
   ],
   "source": [
    "#h = freeman_diaconis(listings.price)\n",
    "plot_data = listings.price\n",
    "variable_name = \"price\"\n",
    "#print(\"Freeman Diaconis: \", h)\n",
    "#mn = int(plot_data.min())\n",
    "#mx = int(plot_data.max())\n",
    "#bins = [i for i in range( mn, mx, h)]\n",
    "\n",
    "figure = plt.figure(figsize=(10, 6))\n",
    "\n",
    "axes = figure.add_subplot(1, 1, 1)\n",
    "axes.hist(plot_data, bins=range(0,500,10),color=\"darkslategray\")\n",
    "axes.set(xlim=[0,437])\n",
    "axes.set_title(variable_name + \" distribution - Freeman Diaconis\")\n",
    "axes.set_xlabel(variable_name)\n",
    "\n",
    "plt.show()\n",
    "plt.close()"
   ]
  },
  {
   "cell_type": "markdown",
   "metadata": {},
   "source": [
    "The resulting plot shows a right-skewed distribution."
   ]
  },
  {
   "cell_type": "code",
   "execution_count": null,
   "metadata": {},
   "outputs": [],
   "source": [
    "con.execute(\"select property_type, room_type, accommodates, bathrooms, bathrooms_text, bedrooms, beds, amenities, price from latest_listings;\")\n",
    "listings = con.fetchall()"
   ]
  },
  {
   "cell_type": "markdown",
   "metadata": {},
   "source": [
    "# Mean Model (or Null Model)\n",
    "\n",
    "## Initial Model\n",
    "\n",
    "We'd like to predict the price for an AirBNB listing in the Washington, D.C. area. Using the mean, overestimates and underestimates will be penalized the same."
   ]
  },
  {
   "cell_type": "code",
   "execution_count": 10,
   "metadata": {},
   "outputs": [
    {
     "data": {
      "text/plain": [
       "198.29448550312677"
      ]
     },
     "execution_count": 10,
     "metadata": {},
     "output_type": "execute_result"
    }
   ],
   "source": [
    "price_predict = np.mean(listings.price)\n",
    "price_predict"
   ]
  },
  {
   "cell_type": "markdown",
   "metadata": {},
   "source": [
    "Picking a random AirBNB listing in the Washington, D.C. area, knowing nothing else about the listing, we predict that the price will be $198.\n",
    "\n"
   ]
  },
  {
   "cell_type": "code",
   "execution_count": 28,
   "metadata": {},
   "outputs": [
    {
     "data": {
      "text/plain": [
       "828.1730137913075"
      ]
     },
     "execution_count": 28,
     "metadata": {},
     "output_type": "execute_result"
    }
   ],
   "source": [
    "price_error = np.std(listings.price) * 1.96\n",
    "price_error"
   ]
  },
  {
   "cell_type": "markdown",
   "metadata": {},
   "source": [
    "This doesn't look good because the lower bounds will be negative. I don't think anyone will pay us to stay in an AirBNB."
   ]
  },
  {
   "cell_type": "code",
   "execution_count": 29,
   "metadata": {},
   "outputs": [
    {
     "data": {
      "text/plain": [
       "[-629.8785282881807, 1026.4674992944342]"
      ]
     },
     "execution_count": 29,
     "metadata": {},
     "output_type": "execute_result"
    }
   ],
   "source": [
    "[price_predict - price_error, price_predict + price_error]"
   ]
  },
  {
   "cell_type": "markdown",
   "metadata": {},
   "source": [
    "The 95% error abounds are from -$630 to $1026. "
   ]
  },
  {
   "cell_type": "code",
   "execution_count": null,
   "metadata": {},
   "outputs": [],
   "source": []
  }
 ],
 "metadata": {
  "interpreter": {
   "hash": "757a43a63dbdd1886d37f8aeabe8f65b30b507bf5c396ccf6c5302a2be001ff1"
  },
  "kernelspec": {
   "display_name": "Python 3.10.6 ('en685648')",
   "language": "python",
   "name": "python3"
  },
  "language_info": {
   "codemirror_mode": {
    "name": "ipython",
    "version": 3
   },
   "file_extension": ".py",
   "mimetype": "text/x-python",
   "name": "python",
   "nbconvert_exporter": "python",
   "pygments_lexer": "ipython3",
   "version": "3.10.6"
  },
  "orig_nbformat": 4
 },
 "nbformat": 4,
 "nbformat_minor": 2
}
