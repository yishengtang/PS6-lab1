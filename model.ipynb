{
 "cells": [
  {
   "cell_type": "code",
   "execution_count": 1,
   "metadata": {},
   "outputs": [],
   "source": [
    "import warnings\n",
    "warnings.filterwarnings('ignore')"
   ]
  },
  {
   "cell_type": "markdown",
   "metadata": {},
   "source": [
    "Revisions\n",
    "12/4/2022 \n",
    "* TA - original notebook demo'd in class\n",
    "* DA- added 'violent \n"
   ]
  },
  {
   "cell_type": "markdown",
   "metadata": {},
   "source": [
    "# Group Project - Linear Models"
   ]
  },
  {
   "cell_type": "code",
   "execution_count": 2,
   "metadata": {},
   "outputs": [],
   "source": [
    "%matplotlib inline"
   ]
  },
  {
   "cell_type": "code",
   "execution_count": 3,
   "metadata": {},
   "outputs": [],
   "source": [
    "import numpy as np\n",
    "import random as py_random\n",
    "import numpy.random as np_random\n",
    "import time\n",
    "import seaborn as sns\n",
    "import matplotlib.pyplot as plt\n",
    "import pandas as pd\n",
    "import scipy.stats as stats\n",
    "import duckdb\n",
    "\n",
    "sns.set(style=\"whitegrid\")"
   ]
  },
  {
   "cell_type": "markdown",
   "metadata": {},
   "source": [
    "## Data Loading"
   ]
  },
  {
   "cell_type": "code",
   "execution_count": 4,
   "metadata": {},
   "outputs": [],
   "source": [
    "con = duckdb.connect(database='ps6.duckdb', read_only=False)"
   ]
  },
  {
   "cell_type": "markdown",
   "metadata": {},
   "source": [
    "### Load Views into Data Frames"
   ]
  },
  {
   "cell_type": "markdown",
   "metadata": {},
   "source": [
    "#### All Listings\n",
    "This view includes every row brought in from the detailed listings.csv from the Washington D.C. AirBnB data set. Some listings may be repeated if they are included in more than one quarter's listings data."
   ]
  },
  {
   "cell_type": "code",
   "execution_count": 5,
   "metadata": {},
   "outputs": [],
   "source": [
    "# Loading dataset\n",
    "# connect to database\n",
    "\n",
    "# read the result of an arbitrary SQL query to a Pandas DataFrame\n",
    "all_listings = con.execute(\"SELECT * from all_listings\").df()"
   ]
  },
  {
   "cell_type": "code",
   "execution_count": 6,
   "metadata": {
    "collapsed": true,
    "jupyter": {
     "outputs_hidden": true
    }
   },
   "outputs": [
    {
     "name": "stdout",
     "output_type": "stream",
     "text": [
      "<class 'pandas.core.frame.DataFrame'>\n",
      "RangeIndex: 28076 entries, 0 to 28075\n",
      "Data columns (total 74 columns):\n",
      " #   Column                                        Non-Null Count  Dtype         \n",
      "---  ------                                        --------------  -----         \n",
      " 0   id                                            28076 non-null  int64         \n",
      " 1   listing_url                                   28076 non-null  object        \n",
      " 2   scrape_id                                     28076 non-null  int64         \n",
      " 3   last_scraped                                  28076 non-null  datetime64[ns]\n",
      " 4   name                                          28074 non-null  object        \n",
      " 5   description                                   27666 non-null  object        \n",
      " 6   neighborhood_overview                         18547 non-null  object        \n",
      " 7   picture_url                                   28076 non-null  object        \n",
      " 8   host_id                                       28076 non-null  int32         \n",
      " 9   host_url                                      28076 non-null  object        \n",
      " 10  host_name                                     27905 non-null  object        \n",
      " 11  host_since                                    27905 non-null  datetime64[ns]\n",
      " 12  host_location                                 27027 non-null  object        \n",
      " 13  host_about                                    17347 non-null  object        \n",
      " 14  host_response_time                            27905 non-null  object        \n",
      " 15  host_response_rate                            27905 non-null  object        \n",
      " 16  host_acceptance_rate                          27905 non-null  object        \n",
      " 17  host_is_superhost                             28061 non-null  object        \n",
      " 18  host_thumbnail_url                            27905 non-null  object        \n",
      " 19  host_picture_url                              27905 non-null  object        \n",
      " 20  host_neighbourhood                            25862 non-null  object        \n",
      " 21  host_listings_count                           27905 non-null  float64       \n",
      " 22  host_total_listings_count                     27905 non-null  float64       \n",
      " 23  host_verifications                            28076 non-null  object        \n",
      " 24  host_has_profile_pic                          27905 non-null  object        \n",
      " 25  host_identity_verified                        27905 non-null  object        \n",
      " 26  neighbourhood                                 18547 non-null  object        \n",
      " 27  neighbourhood_cleansed                        28076 non-null  object        \n",
      " 28  neighbourhood_group_cleansed                  0 non-null      float64       \n",
      " 29  latitude                                      28076 non-null  float64       \n",
      " 30  longitude                                     28076 non-null  float64       \n",
      " 31  property_type                                 28076 non-null  object        \n",
      " 32  room_type                                     28076 non-null  object        \n",
      " 33  accommodates                                  28076 non-null  int32         \n",
      " 34  bathrooms                                     0 non-null      float64       \n",
      " 35  bathrooms_text                                28036 non-null  object        \n",
      " 36  bedrooms                                      25340 non-null  float64       \n",
      " 37  beds                                          27307 non-null  float64       \n",
      " 38  amenities                                     28076 non-null  object        \n",
      " 39  price                                         28076 non-null  float64       \n",
      " 40  minimum_nights                                28076 non-null  int32         \n",
      " 41  maximum_nights                                28076 non-null  int32         \n",
      " 42  minimum_minimum_nights                        28067 non-null  float64       \n",
      " 43  maximum_minimum_nights                        28067 non-null  float64       \n",
      " 44  minimum_maximum_nights                        28067 non-null  float64       \n",
      " 45  maximum_maximum_nights                        28067 non-null  float64       \n",
      " 46  minimum_nights_avg_ntm                        28067 non-null  float64       \n",
      " 47  maximum_nights_avg_ntm                        28067 non-null  float64       \n",
      " 48  calendar_updated                              0 non-null      float64       \n",
      " 49  has_availability                              28076 non-null  bool          \n",
      " 50  availability_30                               28076 non-null  int32         \n",
      " 51  availability_60                               28076 non-null  int32         \n",
      " 52  availability_90                               28076 non-null  int32         \n",
      " 53  availability_365                              28076 non-null  int32         \n",
      " 54  calendar_last_scraped                         28076 non-null  datetime64[ns]\n",
      " 55  number_of_reviews                             28076 non-null  int32         \n",
      " 56  number_of_reviews_ltm                         28076 non-null  int32         \n",
      " 57  number_of_reviews_l30d                        28076 non-null  int32         \n",
      " 58  first_review                                  21844 non-null  datetime64[ns]\n",
      " 59  last_review                                   21844 non-null  datetime64[ns]\n",
      " 60  review_scores_rating                          21844 non-null  float64       \n",
      " 61  review_scores_accuracy                        21649 non-null  float64       \n",
      " 62  review_scores_cleanliness                     21651 non-null  float64       \n",
      " 63  review_scores_checkin                         21645 non-null  float64       \n",
      " 64  review_scores_communication                   21651 non-null  float64       \n",
      " 65  review_scores_location                        21646 non-null  float64       \n",
      " 66  review_scores_value                           21641 non-null  float64       \n",
      " 67  license                                       6918 non-null   object        \n",
      " 68  instant_bookable                              28076 non-null  bool          \n",
      " 69  calculated_host_listings_count                28076 non-null  int32         \n",
      " 70  calculated_host_listings_count_entire_homes   28076 non-null  int32         \n",
      " 71  calculated_host_listings_count_private_rooms  28076 non-null  int32         \n",
      " 72  calculated_host_listings_count_shared_rooms   28076 non-null  int32         \n",
      " 73  reviews_per_month                             21844 non-null  float64       \n",
      "dtypes: bool(2), datetime64[ns](5), float64(24), int32(15), int64(2), object(26)\n",
      "memory usage: 13.9+ MB\n"
     ]
    }
   ],
   "source": [
    "all_listings.info()"
   ]
  },
  {
   "cell_type": "code",
   "execution_count": 7,
   "metadata": {},
   "outputs": [],
   "source": [
    "latest_listings = con.execute(\"SELECT * from latest_listings\").df()"
   ]
  },
  {
   "cell_type": "code",
   "execution_count": 8,
   "metadata": {
    "collapsed": true,
    "jupyter": {
     "outputs_hidden": true
    }
   },
   "outputs": [
    {
     "name": "stdout",
     "output_type": "stream",
     "text": [
      "<class 'pandas.core.frame.DataFrame'>\n",
      "RangeIndex: 10560 entries, 0 to 10559\n",
      "Data columns (total 74 columns):\n",
      " #   Column                                        Non-Null Count  Dtype         \n",
      "---  ------                                        --------------  -----         \n",
      " 0   id                                            10560 non-null  int64         \n",
      " 1   listing_url                                   10560 non-null  object        \n",
      " 2   scrape_id                                     10560 non-null  int64         \n",
      " 3   last_scraped                                  10560 non-null  datetime64[ns]\n",
      " 4   name                                          10559 non-null  object        \n",
      " 5   description                                   10416 non-null  object        \n",
      " 6   neighborhood_overview                         6559 non-null   object        \n",
      " 7   picture_url                                   10560 non-null  object        \n",
      " 8   host_id                                       10560 non-null  int32         \n",
      " 9   host_url                                      10560 non-null  object        \n",
      " 10  host_name                                     10398 non-null  object        \n",
      " 11  host_since                                    10398 non-null  datetime64[ns]\n",
      " 12  host_location                                 9548 non-null   object        \n",
      " 13  host_about                                    6013 non-null   object        \n",
      " 14  host_response_time                            10398 non-null  object        \n",
      " 15  host_response_rate                            10398 non-null  object        \n",
      " 16  host_acceptance_rate                          10398 non-null  object        \n",
      " 17  host_is_superhost                             10554 non-null  object        \n",
      " 18  host_thumbnail_url                            10398 non-null  object        \n",
      " 19  host_picture_url                              10398 non-null  object        \n",
      " 20  host_neighbourhood                            9583 non-null   object        \n",
      " 21  host_listings_count                           10398 non-null  float64       \n",
      " 22  host_total_listings_count                     10398 non-null  float64       \n",
      " 23  host_verifications                            10560 non-null  object        \n",
      " 24  host_has_profile_pic                          10398 non-null  object        \n",
      " 25  host_identity_verified                        10398 non-null  object        \n",
      " 26  neighbourhood                                 6559 non-null   object        \n",
      " 27  neighbourhood_cleansed                        10560 non-null  object        \n",
      " 28  neighbourhood_group_cleansed                  0 non-null      float64       \n",
      " 29  latitude                                      10560 non-null  float64       \n",
      " 30  longitude                                     10560 non-null  float64       \n",
      " 31  property_type                                 10560 non-null  object        \n",
      " 32  room_type                                     10560 non-null  object        \n",
      " 33  accommodates                                  10560 non-null  int32         \n",
      " 34  bathrooms                                     0 non-null      float64       \n",
      " 35  bathrooms_text                                10546 non-null  object        \n",
      " 36  bedrooms                                      9600 non-null   float64       \n",
      " 37  beds                                          10291 non-null  float64       \n",
      " 38  amenities                                     10560 non-null  object        \n",
      " 39  price                                         10560 non-null  float64       \n",
      " 40  minimum_nights                                10560 non-null  int32         \n",
      " 41  maximum_nights                                10560 non-null  int32         \n",
      " 42  minimum_minimum_nights                        10557 non-null  float64       \n",
      " 43  maximum_minimum_nights                        10557 non-null  float64       \n",
      " 44  minimum_maximum_nights                        10557 non-null  float64       \n",
      " 45  maximum_maximum_nights                        10557 non-null  float64       \n",
      " 46  minimum_nights_avg_ntm                        10557 non-null  float64       \n",
      " 47  maximum_nights_avg_ntm                        10557 non-null  float64       \n",
      " 48  calendar_updated                              0 non-null      float64       \n",
      " 49  has_availability                              10560 non-null  bool          \n",
      " 50  availability_30                               10560 non-null  int32         \n",
      " 51  availability_60                               10560 non-null  int32         \n",
      " 52  availability_90                               10560 non-null  int32         \n",
      " 53  availability_365                              10560 non-null  int32         \n",
      " 54  calendar_last_scraped                         10560 non-null  datetime64[ns]\n",
      " 55  number_of_reviews                             10560 non-null  int32         \n",
      " 56  number_of_reviews_ltm                         10560 non-null  int32         \n",
      " 57  number_of_reviews_l30d                        10560 non-null  int32         \n",
      " 58  first_review                                  7740 non-null   datetime64[ns]\n",
      " 59  last_review                                   7740 non-null   datetime64[ns]\n",
      " 60  review_scores_rating                          7740 non-null   float64       \n",
      " 61  review_scores_accuracy                        7656 non-null   float64       \n",
      " 62  review_scores_cleanliness                     7657 non-null   float64       \n",
      " 63  review_scores_checkin                         7654 non-null   float64       \n",
      " 64  review_scores_communication                   7657 non-null   float64       \n",
      " 65  review_scores_location                        7655 non-null   float64       \n",
      " 66  review_scores_value                           7652 non-null   float64       \n",
      " 67  license                                       3427 non-null   object        \n",
      " 68  instant_bookable                              10560 non-null  bool          \n",
      " 69  calculated_host_listings_count                10560 non-null  int32         \n",
      " 70  calculated_host_listings_count_entire_homes   10560 non-null  int32         \n",
      " 71  calculated_host_listings_count_private_rooms  10560 non-null  int32         \n",
      " 72  calculated_host_listings_count_shared_rooms   10560 non-null  int32         \n",
      " 73  reviews_per_month                             7740 non-null   float64       \n",
      "dtypes: bool(2), datetime64[ns](5), float64(24), int32(15), int64(2), object(26)\n",
      "memory usage: 5.2+ MB\n"
     ]
    }
   ],
   "source": [
    "latest_listings.info()"
   ]
  },
  {
   "cell_type": "code",
   "execution_count": 9,
   "metadata": {},
   "outputs": [],
   "source": [
    "neighborhoods = con.execute(\"SELECT * from neighborhoods\").df()"
   ]
  },
  {
   "cell_type": "code",
   "execution_count": 10,
   "metadata": {},
   "outputs": [
    {
     "name": "stdout",
     "output_type": "stream",
     "text": [
      "<class 'pandas.core.frame.DataFrame'>\n",
      "RangeIndex: 39 entries, 0 to 38\n",
      "Data columns (total 6 columns):\n",
      " #   Column               Non-Null Count  Dtype \n",
      "---  ------               --------------  ----- \n",
      " 0   neighbourhood_group  0 non-null      object\n",
      " 1   neighbourhood        39 non-null     object\n",
      " 2   type_outer           39 non-null     object\n",
      " 3   feature_type         39 non-null     object\n",
      " 4   geometry_type        39 non-null     object\n",
      " 5   coordinates          39 non-null     object\n",
      "dtypes: object(6)\n",
      "memory usage: 2.0+ KB\n"
     ]
    }
   ],
   "source": [
    "neighborhoods.info()"
   ]
  },
  {
   "cell_type": "code",
   "execution_count": 11,
   "metadata": {},
   "outputs": [],
   "source": [
    "reviews = con.execute(\"SELECT * from reviews\").df()"
   ]
  },
  {
   "cell_type": "code",
   "execution_count": 12,
   "metadata": {},
   "outputs": [
    {
     "name": "stdout",
     "output_type": "stream",
     "text": [
      "<class 'pandas.core.frame.DataFrame'>\n",
      "RangeIndex: 321209 entries, 0 to 321208\n",
      "Data columns (total 6 columns):\n",
      " #   Column         Non-Null Count   Dtype         \n",
      "---  ------         --------------   -----         \n",
      " 0   listing_id     321209 non-null  int64         \n",
      " 1   id             321209 non-null  int64         \n",
      " 2   date           321209 non-null  datetime64[ns]\n",
      " 3   reviewer_id    321209 non-null  int32         \n",
      " 4   reviewer_name  321208 non-null  object        \n",
      " 5   comments       321127 non-null  object        \n",
      "dtypes: datetime64[ns](1), int32(1), int64(2), object(2)\n",
      "memory usage: 13.5+ MB\n"
     ]
    }
   ],
   "source": [
    "reviews.info()"
   ]
  },
  {
   "cell_type": "code",
   "execution_count": 13,
   "metadata": {},
   "outputs": [],
   "source": [
    "calendar = con.execute(\"SELECT * from calendar\").df()"
   ]
  },
  {
   "cell_type": "code",
   "execution_count": 14,
   "metadata": {},
   "outputs": [
    {
     "name": "stdout",
     "output_type": "stream",
     "text": [
      "<class 'pandas.core.frame.DataFrame'>\n",
      "RangeIndex: 10245531 entries, 0 to 10245530\n",
      "Data columns (total 7 columns):\n",
      " #   Column          Dtype         \n",
      "---  ------          -----         \n",
      " 0   listing_id      int64         \n",
      " 1   date            datetime64[ns]\n",
      " 2   available       object        \n",
      " 3   price           float64       \n",
      " 4   adjusted_price  float64       \n",
      " 5   minimum_nights  float64       \n",
      " 6   maximum_nights  float64       \n",
      "dtypes: datetime64[ns](1), float64(4), int64(1), object(1)\n",
      "memory usage: 547.2+ MB\n"
     ]
    }
   ],
   "source": [
    "calendar.info()"
   ]
  },
  {
   "cell_type": "code",
   "execution_count": 15,
   "metadata": {},
   "outputs": [],
   "source": [
    "crimes = con.execute(\"SELECT * from calendar\").df()"
   ]
  },
  {
   "cell_type": "code",
   "execution_count": 16,
   "metadata": {},
   "outputs": [
    {
     "name": "stdout",
     "output_type": "stream",
     "text": [
      "<class 'pandas.core.frame.DataFrame'>\n",
      "RangeIndex: 10245531 entries, 0 to 10245530\n",
      "Data columns (total 7 columns):\n",
      " #   Column          Dtype         \n",
      "---  ------          -----         \n",
      " 0   listing_id      int64         \n",
      " 1   date            datetime64[ns]\n",
      " 2   available       object        \n",
      " 3   price           float64       \n",
      " 4   adjusted_price  float64       \n",
      " 5   minimum_nights  float64       \n",
      " 6   maximum_nights  float64       \n",
      "dtypes: datetime64[ns](1), float64(4), int64(1), object(1)\n",
      "memory usage: 547.2+ MB\n"
     ]
    }
   ],
   "source": [
    "crimes.info()"
   ]
  },
  {
   "cell_type": "code",
   "execution_count": 17,
   "metadata": {},
   "outputs": [],
   "source": [
    "neighborhood_crimes = con.execute(\"SELECT * from neighborhood_crimes\").df()"
   ]
  },
  {
   "cell_type": "code",
   "execution_count": 18,
   "metadata": {},
   "outputs": [
    {
     "name": "stdout",
     "output_type": "stream",
     "text": [
      "<class 'pandas.core.frame.DataFrame'>\n",
      "RangeIndex: 46 entries, 0 to 45\n",
      "Data columns (total 13 columns):\n",
      " #   Column             Non-Null Count  Dtype \n",
      "---  ------             --------------  ----- \n",
      " 0   NEIGHBORHOOD_NAME  46 non-null     object\n",
      " 1   homicides          46 non-null     int64 \n",
      " 2   robberies          46 non-null     int64 \n",
      " 3   assaults           46 non-null     int64 \n",
      " 4   theft_from_auto    46 non-null     int64 \n",
      " 5   other_thefts       46 non-null     int64 \n",
      " 6   vehicle_theft      46 non-null     int64 \n",
      " 7   burglaries         46 non-null     int64 \n",
      " 8   sex_abuses         46 non-null     int64 \n",
      " 9   arsons             46 non-null     int64 \n",
      " 10  violent_crimes     46 non-null     int64 \n",
      " 11  property_crimes    46 non-null     int64 \n",
      " 12  total_crimes       46 non-null     int64 \n",
      "dtypes: int64(12), object(1)\n",
      "memory usage: 4.8+ KB\n"
     ]
    }
   ],
   "source": [
    "neighborhood_crimes.info()"
   ]
  },
  {
   "cell_type": "markdown",
   "metadata": {},
   "source": [
    "## Full Latest Listings View\n",
    "The full_latest_listings view includes the latest listings data, with one row per listing, and aggregate crime data.\n",
    "\n",
    "This is a convenient data set to use for modeling."
   ]
  },
  {
   "cell_type": "code",
   "execution_count": 19,
   "metadata": {},
   "outputs": [],
   "source": [
    "full_latest_listings = con.execute(\"SELECT * from full_latest_listings\").df()"
   ]
  },
  {
   "cell_type": "code",
   "execution_count": 20,
   "metadata": {},
   "outputs": [
    {
     "name": "stdout",
     "output_type": "stream",
     "text": [
      "<class 'pandas.core.frame.DataFrame'>\n",
      "RangeIndex: 10560 entries, 0 to 10559\n",
      "Data columns (total 87 columns):\n",
      " #   Column                                        Non-Null Count  Dtype         \n",
      "---  ------                                        --------------  -----         \n",
      " 0   id                                            10560 non-null  int64         \n",
      " 1   listing_url                                   10560 non-null  object        \n",
      " 2   scrape_id                                     10560 non-null  int64         \n",
      " 3   last_scraped                                  10560 non-null  datetime64[ns]\n",
      " 4   name                                          10559 non-null  object        \n",
      " 5   description                                   10416 non-null  object        \n",
      " 6   neighborhood_overview                         6559 non-null   object        \n",
      " 7   picture_url                                   10560 non-null  object        \n",
      " 8   host_id                                       10560 non-null  int32         \n",
      " 9   host_url                                      10560 non-null  object        \n",
      " 10  host_name                                     10398 non-null  object        \n",
      " 11  host_since                                    10398 non-null  datetime64[ns]\n",
      " 12  host_location                                 9548 non-null   object        \n",
      " 13  host_about                                    6013 non-null   object        \n",
      " 14  host_response_time                            10398 non-null  object        \n",
      " 15  host_response_rate                            10398 non-null  object        \n",
      " 16  host_acceptance_rate                          10398 non-null  object        \n",
      " 17  host_is_superhost                             10554 non-null  object        \n",
      " 18  host_thumbnail_url                            10398 non-null  object        \n",
      " 19  host_picture_url                              10398 non-null  object        \n",
      " 20  host_neighbourhood                            9583 non-null   object        \n",
      " 21  host_listings_count                           10398 non-null  float64       \n",
      " 22  host_total_listings_count                     10398 non-null  float64       \n",
      " 23  host_verifications                            10560 non-null  object        \n",
      " 24  host_has_profile_pic                          10398 non-null  object        \n",
      " 25  host_identity_verified                        10398 non-null  object        \n",
      " 26  neighbourhood                                 6559 non-null   object        \n",
      " 27  neighbourhood_cleansed                        10560 non-null  object        \n",
      " 28  neighbourhood_group_cleansed                  0 non-null      float64       \n",
      " 29  latitude                                      10560 non-null  float64       \n",
      " 30  longitude                                     10560 non-null  float64       \n",
      " 31  property_type                                 10560 non-null  object        \n",
      " 32  room_type                                     10560 non-null  object        \n",
      " 33  accommodates                                  10560 non-null  int32         \n",
      " 34  bathrooms                                     0 non-null      float64       \n",
      " 35  bathrooms_text                                10546 non-null  object        \n",
      " 36  bedrooms                                      9600 non-null   float64       \n",
      " 37  beds                                          10291 non-null  float64       \n",
      " 38  amenities                                     10560 non-null  object        \n",
      " 39  price                                         10560 non-null  float64       \n",
      " 40  minimum_nights                                10560 non-null  int32         \n",
      " 41  maximum_nights                                10560 non-null  int32         \n",
      " 42  minimum_minimum_nights                        10557 non-null  float64       \n",
      " 43  maximum_minimum_nights                        10557 non-null  float64       \n",
      " 44  minimum_maximum_nights                        10557 non-null  float64       \n",
      " 45  maximum_maximum_nights                        10557 non-null  float64       \n",
      " 46  minimum_nights_avg_ntm                        10557 non-null  float64       \n",
      " 47  maximum_nights_avg_ntm                        10557 non-null  float64       \n",
      " 48  calendar_updated                              0 non-null      float64       \n",
      " 49  has_availability                              10560 non-null  bool          \n",
      " 50  availability_30                               10560 non-null  int32         \n",
      " 51  availability_60                               10560 non-null  int32         \n",
      " 52  availability_90                               10560 non-null  int32         \n",
      " 53  availability_365                              10560 non-null  int32         \n",
      " 54  calendar_last_scraped                         10560 non-null  datetime64[ns]\n",
      " 55  number_of_reviews                             10560 non-null  int32         \n",
      " 56  number_of_reviews_ltm                         10560 non-null  int32         \n",
      " 57  number_of_reviews_l30d                        10560 non-null  int32         \n",
      " 58  first_review                                  7740 non-null   datetime64[ns]\n",
      " 59  last_review                                   7740 non-null   datetime64[ns]\n",
      " 60  review_scores_rating                          7740 non-null   float64       \n",
      " 61  review_scores_accuracy                        7656 non-null   float64       \n",
      " 62  review_scores_cleanliness                     7657 non-null   float64       \n",
      " 63  review_scores_checkin                         7654 non-null   float64       \n",
      " 64  review_scores_communication                   7657 non-null   float64       \n",
      " 65  review_scores_location                        7655 non-null   float64       \n",
      " 66  review_scores_value                           7652 non-null   float64       \n",
      " 67  license                                       3427 non-null   object        \n",
      " 68  instant_bookable                              10560 non-null  bool          \n",
      " 69  calculated_host_listings_count                10560 non-null  int32         \n",
      " 70  calculated_host_listings_count_entire_homes   10560 non-null  int32         \n",
      " 71  calculated_host_listings_count_private_rooms  10560 non-null  int32         \n",
      " 72  calculated_host_listings_count_shared_rooms   10560 non-null  int32         \n",
      " 73  reviews_per_month                             7740 non-null   float64       \n",
      " 74  NEIGHBORHOOD_NAME                             10560 non-null  object        \n",
      " 75  homicides                                     10560 non-null  int64         \n",
      " 76  robberies                                     10560 non-null  int64         \n",
      " 77  assaults                                      10560 non-null  int64         \n",
      " 78  theft_from_auto                               10560 non-null  int64         \n",
      " 79  other_thefts                                  10560 non-null  int64         \n",
      " 80  vehicle_theft                                 10560 non-null  int64         \n",
      " 81  burglaries                                    10560 non-null  int64         \n",
      " 82  sex_abuses                                    10560 non-null  int64         \n",
      " 83  arsons                                        10560 non-null  int64         \n",
      " 84  violent_crimes                                10560 non-null  int64         \n",
      " 85  property_crimes                               10560 non-null  int64         \n",
      " 86  total_crimes                                  10560 non-null  int64         \n",
      "dtypes: bool(2), datetime64[ns](5), float64(24), int32(15), int64(14), object(27)\n",
      "memory usage: 6.3+ MB\n"
     ]
    }
   ],
   "source": [
    "full_latest_listings.info()"
   ]
  },
  {
   "cell_type": "markdown",
   "metadata": {},
   "source": [
    "For reference, we'll list the number of violent crimes per neighborhood."
   ]
  },
  {
   "cell_type": "code",
   "execution_count": 21,
   "metadata": {},
   "outputs": [
    {
     "data": {
      "text/html": [
       "<div>\n",
       "<style scoped>\n",
       "    .dataframe tbody tr th:only-of-type {\n",
       "        vertical-align: middle;\n",
       "    }\n",
       "\n",
       "    .dataframe tbody tr th {\n",
       "        vertical-align: top;\n",
       "    }\n",
       "\n",
       "    .dataframe thead th {\n",
       "        text-align: right;\n",
       "    }\n",
       "</style>\n",
       "<table border=\"1\" class=\"dataframe\">\n",
       "  <thead>\n",
       "    <tr style=\"text-align: right;\">\n",
       "      <th></th>\n",
       "      <th>NEIGHBORHOOD_NAME</th>\n",
       "      <th>violent_crimes</th>\n",
       "    </tr>\n",
       "  </thead>\n",
       "  <tbody>\n",
       "    <tr>\n",
       "      <th>0</th>\n",
       "      <td>Brightwood Park, Crestwood, Petworth</td>\n",
       "      <td>156</td>\n",
       "    </tr>\n",
       "    <tr>\n",
       "      <th>1</th>\n",
       "      <td>Brookland, Brentwood, Langdon</td>\n",
       "      <td>124</td>\n",
       "    </tr>\n",
       "    <tr>\n",
       "      <th>2</th>\n",
       "      <td>Capitol Hill, Lincoln Park</td>\n",
       "      <td>121</td>\n",
       "    </tr>\n",
       "    <tr>\n",
       "      <th>3</th>\n",
       "      <td>Capitol View, Marshall Heights, Benning Heights</td>\n",
       "      <td>176</td>\n",
       "    </tr>\n",
       "    <tr>\n",
       "      <th>4</th>\n",
       "      <td>Cathedral Heights, McLean Gardens, Glover Park</td>\n",
       "      <td>12</td>\n",
       "    </tr>\n",
       "    <tr>\n",
       "      <th>5</th>\n",
       "      <td>Cleveland Park, Woodley Park, Massachusetts Av...</td>\n",
       "      <td>14</td>\n",
       "    </tr>\n",
       "    <tr>\n",
       "      <th>6</th>\n",
       "      <td>Colonial Village, Shepherd Park, North Portal ...</td>\n",
       "      <td>13</td>\n",
       "    </tr>\n",
       "    <tr>\n",
       "      <th>7</th>\n",
       "      <td>Columbia Heights, Mt. Pleasant, Pleasant Plain...</td>\n",
       "      <td>226</td>\n",
       "    </tr>\n",
       "    <tr>\n",
       "      <th>8</th>\n",
       "      <td>Congress Heights, Bellevue, Washington Highlands</td>\n",
       "      <td>369</td>\n",
       "    </tr>\n",
       "    <tr>\n",
       "      <th>9</th>\n",
       "      <td>Deanwood, Burrville, Grant Park, Lincoln Heigh...</td>\n",
       "      <td>167</td>\n",
       "    </tr>\n",
       "    <tr>\n",
       "      <th>10</th>\n",
       "      <td>Douglas, Shipley Terrace</td>\n",
       "      <td>132</td>\n",
       "    </tr>\n",
       "    <tr>\n",
       "      <th>11</th>\n",
       "      <td>Downtown, Chinatown, Penn Quarters, Mount Vern...</td>\n",
       "      <td>149</td>\n",
       "    </tr>\n",
       "    <tr>\n",
       "      <th>12</th>\n",
       "      <td>Dupont Circle, Connecticut Avenue/K Street</td>\n",
       "      <td>109</td>\n",
       "    </tr>\n",
       "    <tr>\n",
       "      <th>13</th>\n",
       "      <td>Eastland Gardens, Kenilworth</td>\n",
       "      <td>14</td>\n",
       "    </tr>\n",
       "    <tr>\n",
       "      <th>14</th>\n",
       "      <td>Edgewood, Bloomingdale, Truxton Circle, Eckington</td>\n",
       "      <td>200</td>\n",
       "    </tr>\n",
       "    <tr>\n",
       "      <th>15</th>\n",
       "      <td>Fairfax Village, Naylor Gardens, Hillcrest, Su...</td>\n",
       "      <td>59</td>\n",
       "    </tr>\n",
       "    <tr>\n",
       "      <th>16</th>\n",
       "      <td>Friendship Heights, American University Park, ...</td>\n",
       "      <td>23</td>\n",
       "    </tr>\n",
       "    <tr>\n",
       "      <th>17</th>\n",
       "      <td>Georgetown, Burleith/Hillandale</td>\n",
       "      <td>18</td>\n",
       "    </tr>\n",
       "    <tr>\n",
       "      <th>18</th>\n",
       "      <td>Hawthorne, Barnaby Woods, Chevy Chase</td>\n",
       "      <td>5</td>\n",
       "    </tr>\n",
       "    <tr>\n",
       "      <th>19</th>\n",
       "      <td>Historic Anacostia</td>\n",
       "      <td>65</td>\n",
       "    </tr>\n",
       "    <tr>\n",
       "      <th>20</th>\n",
       "      <td>Howard University, Le Droit Park, Cardozo/Shaw</td>\n",
       "      <td>172</td>\n",
       "    </tr>\n",
       "    <tr>\n",
       "      <th>21</th>\n",
       "      <td>Ivy City, Arboretum, Trinidad, Carver Langston</td>\n",
       "      <td>254</td>\n",
       "    </tr>\n",
       "    <tr>\n",
       "      <th>22</th>\n",
       "      <td>Kalorama Heights, Adams Morgan, Lanier Heights</td>\n",
       "      <td>66</td>\n",
       "    </tr>\n",
       "    <tr>\n",
       "      <th>23</th>\n",
       "      <td>Lamont Riggs, Queens Chapel, Fort Totten, Plea...</td>\n",
       "      <td>59</td>\n",
       "    </tr>\n",
       "    <tr>\n",
       "      <th>24</th>\n",
       "      <td>Mayfair, Hillbrook, Mahaning Heights</td>\n",
       "      <td>102</td>\n",
       "    </tr>\n",
       "    <tr>\n",
       "      <th>25</th>\n",
       "      <td>Near Southeast, Navy Yard</td>\n",
       "      <td>54</td>\n",
       "    </tr>\n",
       "    <tr>\n",
       "      <th>26</th>\n",
       "      <td>North Cleveland Park, Forest Hills, Van Ness</td>\n",
       "      <td>24</td>\n",
       "    </tr>\n",
       "    <tr>\n",
       "      <th>27</th>\n",
       "      <td>North Michigan Park, Michigan Park, University...</td>\n",
       "      <td>38</td>\n",
       "    </tr>\n",
       "    <tr>\n",
       "      <th>28</th>\n",
       "      <td>River Terrace, Benning, Greenway, Dupont Park</td>\n",
       "      <td>156</td>\n",
       "    </tr>\n",
       "    <tr>\n",
       "      <th>29</th>\n",
       "      <td>Shaw, Logan Circle</td>\n",
       "      <td>105</td>\n",
       "    </tr>\n",
       "    <tr>\n",
       "      <th>30</th>\n",
       "      <td>Sheridan, Barry Farm, Buena Vista</td>\n",
       "      <td>77</td>\n",
       "    </tr>\n",
       "    <tr>\n",
       "      <th>31</th>\n",
       "      <td>Southwest Employment Area, Southwest/Waterfron...</td>\n",
       "      <td>70</td>\n",
       "    </tr>\n",
       "    <tr>\n",
       "      <th>32</th>\n",
       "      <td>Spring Valley, Palisades, Wesley Heights, Foxh...</td>\n",
       "      <td>2</td>\n",
       "    </tr>\n",
       "    <tr>\n",
       "      <th>33</th>\n",
       "      <td>Takoma, Brightwood, Manor Park</td>\n",
       "      <td>71</td>\n",
       "    </tr>\n",
       "    <tr>\n",
       "      <th>34</th>\n",
       "      <td>Twining, Fairlawn, Randle Highlands, Penn Bran...</td>\n",
       "      <td>199</td>\n",
       "    </tr>\n",
       "    <tr>\n",
       "      <th>35</th>\n",
       "      <td>Union Station, Stanton Park, Kingman Park</td>\n",
       "      <td>251</td>\n",
       "    </tr>\n",
       "    <tr>\n",
       "      <th>36</th>\n",
       "      <td>West End, Foggy Bottom, GWU</td>\n",
       "      <td>20</td>\n",
       "    </tr>\n",
       "    <tr>\n",
       "      <th>37</th>\n",
       "      <td>Woodland/Fort Stanton, Garfield Heights, Knox ...</td>\n",
       "      <td>91</td>\n",
       "    </tr>\n",
       "    <tr>\n",
       "      <th>38</th>\n",
       "      <td>Woodridge, Fort Lincoln, Gateway</td>\n",
       "      <td>59</td>\n",
       "    </tr>\n",
       "  </tbody>\n",
       "</table>\n",
       "</div>"
      ],
      "text/plain": [
       "                                    NEIGHBORHOOD_NAME  violent_crimes\n",
       "0                Brightwood Park, Crestwood, Petworth             156\n",
       "1                       Brookland, Brentwood, Langdon             124\n",
       "2                          Capitol Hill, Lincoln Park             121\n",
       "3     Capitol View, Marshall Heights, Benning Heights             176\n",
       "4      Cathedral Heights, McLean Gardens, Glover Park              12\n",
       "5   Cleveland Park, Woodley Park, Massachusetts Av...              14\n",
       "6   Colonial Village, Shepherd Park, North Portal ...              13\n",
       "7   Columbia Heights, Mt. Pleasant, Pleasant Plain...             226\n",
       "8    Congress Heights, Bellevue, Washington Highlands             369\n",
       "9   Deanwood, Burrville, Grant Park, Lincoln Heigh...             167\n",
       "10                           Douglas, Shipley Terrace             132\n",
       "11  Downtown, Chinatown, Penn Quarters, Mount Vern...             149\n",
       "12         Dupont Circle, Connecticut Avenue/K Street             109\n",
       "13                       Eastland Gardens, Kenilworth              14\n",
       "14  Edgewood, Bloomingdale, Truxton Circle, Eckington             200\n",
       "15  Fairfax Village, Naylor Gardens, Hillcrest, Su...              59\n",
       "16  Friendship Heights, American University Park, ...              23\n",
       "17                    Georgetown, Burleith/Hillandale              18\n",
       "18              Hawthorne, Barnaby Woods, Chevy Chase               5\n",
       "19                                 Historic Anacostia              65\n",
       "20     Howard University, Le Droit Park, Cardozo/Shaw             172\n",
       "21     Ivy City, Arboretum, Trinidad, Carver Langston             254\n",
       "22     Kalorama Heights, Adams Morgan, Lanier Heights              66\n",
       "23  Lamont Riggs, Queens Chapel, Fort Totten, Plea...              59\n",
       "24               Mayfair, Hillbrook, Mahaning Heights             102\n",
       "25                          Near Southeast, Navy Yard              54\n",
       "26       North Cleveland Park, Forest Hills, Van Ness              24\n",
       "27  North Michigan Park, Michigan Park, University...              38\n",
       "28      River Terrace, Benning, Greenway, Dupont Park             156\n",
       "29                                 Shaw, Logan Circle             105\n",
       "30                  Sheridan, Barry Farm, Buena Vista              77\n",
       "31  Southwest Employment Area, Southwest/Waterfron...              70\n",
       "32  Spring Valley, Palisades, Wesley Heights, Foxh...               2\n",
       "33                     Takoma, Brightwood, Manor Park              71\n",
       "34  Twining, Fairlawn, Randle Highlands, Penn Bran...             199\n",
       "35          Union Station, Stanton Park, Kingman Park             251\n",
       "36                        West End, Foggy Bottom, GWU              20\n",
       "37  Woodland/Fort Stanton, Garfield Heights, Knox ...              91\n",
       "38                   Woodridge, Fort Lincoln, Gateway              59"
      ]
     },
     "execution_count": 21,
     "metadata": {},
     "output_type": "execute_result"
    }
   ],
   "source": [
    "full_latest_listings[['NEIGHBORHOOD_NAME','violent_crimes']].drop_duplicates().sort_values('NEIGHBORHOOD_NAME', ignore_index=True)"
   ]
  },
  {
   "cell_type": "markdown",
   "metadata": {},
   "source": [
    "Variables to include in first linear regression:\n",
    "* accomodates (listings)\n",
    "* room_type (listings)\n",
    "* review_score_value (listings)\n",
    "* review_score_location (listings)\n",
    "* review_score_communication (listings)\n",
    "* review_score_cleanliness (listings)\n",
    "* violent_crime_per_neighborhood (???)\n",
    "* host_identity_verified (listings)\n",
    "* host_acceptance_rate (listings)\n",
    "* host_listings_count MAYBE (listings)"
   ]
  },
  {
   "cell_type": "code",
   "execution_count": 22,
   "metadata": {},
   "outputs": [],
   "source": [
    "## create jumbo dataframe of all of these\n",
    "combined = full_latest_listings[full_latest_listings[['price',\n",
    "                                 'accommodates',\n",
    "                                 'room_type',\n",
    "                                 'review_scores_value',\n",
    "                                 'review_scores_location',\n",
    "                                 'review_scores_communication',\n",
    "                                 'review_scores_cleanliness',\n",
    "                                 'host_identity_verified',\n",
    "                                 'host_acceptance_rate',\n",
    "                                 'host_listings_count',\n",
    "                                 'violent_crimes']].notnull().all(1)]"
   ]
  },
  {
   "cell_type": "code",
   "execution_count": 23,
   "metadata": {},
   "outputs": [],
   "source": [
    "combined_non_nan = full_latest_listings[full_latest_listings[['price',\n",
    "                                 'accommodates',\n",
    "                                 'room_type',\n",
    "                                 'review_scores_value',\n",
    "                                 'review_scores_location',\n",
    "                                 'review_scores_communication',\n",
    "                                 'review_scores_cleanliness',\n",
    "                                 'host_identity_verified',\n",
    "                                 'host_acceptance_rate',\n",
    "                                 'host_listings_count',\n",
    "                                 'violent_crimes']].notnull().all(1)].copy()\n",
    "combined_non_nan = combined_non_nan[['price',\n",
    "                                 'accommodates',\n",
    "                                 'room_type',\n",
    "                                 'review_scores_value',\n",
    "                                 'review_scores_location',\n",
    "                                 'review_scores_communication',\n",
    "                                 'review_scores_cleanliness',\n",
    "                                 'host_identity_verified',\n",
    "                                 'host_acceptance_rate',\n",
    "                                 'host_listings_count',\n",
    "                                 'violent_crimes']].copy()"
   ]
  },
  {
   "cell_type": "code",
   "execution_count": 24,
   "metadata": {},
   "outputs": [
    {
     "name": "stdout",
     "output_type": "stream",
     "text": [
      "<class 'pandas.core.frame.DataFrame'>\n",
      "Int64Index: 7520 entries, 0 to 10549\n",
      "Data columns (total 11 columns):\n",
      " #   Column                       Non-Null Count  Dtype  \n",
      "---  ------                       --------------  -----  \n",
      " 0   price                        7520 non-null   float64\n",
      " 1   accommodates                 7520 non-null   int32  \n",
      " 2   room_type                    7520 non-null   object \n",
      " 3   review_scores_value          7520 non-null   float64\n",
      " 4   review_scores_location       7520 non-null   float64\n",
      " 5   review_scores_communication  7520 non-null   float64\n",
      " 6   review_scores_cleanliness    7520 non-null   float64\n",
      " 7   host_identity_verified       7520 non-null   object \n",
      " 8   host_acceptance_rate         7520 non-null   object \n",
      " 9   host_listings_count          7520 non-null   float64\n",
      " 10  violent_crimes               7520 non-null   int64  \n",
      "dtypes: float64(6), int32(1), int64(1), object(3)\n",
      "memory usage: 675.6+ KB\n"
     ]
    }
   ],
   "source": [
    "combined_non_nan.info()"
   ]
  },
  {
   "cell_type": "code",
   "execution_count": 25,
   "metadata": {},
   "outputs": [],
   "source": [
    "# TODO: Encode categorical variables into one-hot-encodings"
   ]
  },
  {
   "cell_type": "code",
   "execution_count": 26,
   "metadata": {},
   "outputs": [],
   "source": [
    "def correlations(data, y, xs):\n",
    "    rs = []\n",
    "    rhos = []\n",
    "    for x in xs:\n",
    "        r = stats.pearsonr(data[y], data[x])[0]\n",
    "        rs.append(r)\n",
    "        rho = stats.spearmanr(data[y], data[x])[0]\n",
    "        rhos.append(rho)\n",
    "    return pd.DataFrame({\"feature\": xs, \"r\": rs, \"rho\": rhos})"
   ]
  },
  {
   "cell_type": "code",
   "execution_count": 27,
   "metadata": {},
   "outputs": [],
   "source": [
    "# get rid of NaNs\n",
    "#combined = combined()"
   ]
  },
  {
   "cell_type": "code",
   "execution_count": 28,
   "metadata": {},
   "outputs": [
    {
     "data": {
      "text/html": [
       "<div>\n",
       "<style scoped>\n",
       "    .dataframe tbody tr th:only-of-type {\n",
       "        vertical-align: middle;\n",
       "    }\n",
       "\n",
       "    .dataframe tbody tr th {\n",
       "        vertical-align: top;\n",
       "    }\n",
       "\n",
       "    .dataframe thead th {\n",
       "        text-align: right;\n",
       "    }\n",
       "</style>\n",
       "<table border=\"1\" class=\"dataframe\">\n",
       "  <thead>\n",
       "    <tr style=\"text-align: right;\">\n",
       "      <th></th>\n",
       "      <th>feature</th>\n",
       "      <th>r</th>\n",
       "      <th>rho</th>\n",
       "    </tr>\n",
       "  </thead>\n",
       "  <tbody>\n",
       "    <tr>\n",
       "      <th>0</th>\n",
       "      <td>accommodates</td>\n",
       "      <td>0.335127</td>\n",
       "      <td>0.603468</td>\n",
       "    </tr>\n",
       "    <tr>\n",
       "      <th>1</th>\n",
       "      <td>review_scores_value</td>\n",
       "      <td>-0.011439</td>\n",
       "      <td>-0.028919</td>\n",
       "    </tr>\n",
       "    <tr>\n",
       "      <th>2</th>\n",
       "      <td>review_scores_location</td>\n",
       "      <td>0.057894</td>\n",
       "      <td>0.199798</td>\n",
       "    </tr>\n",
       "    <tr>\n",
       "      <th>3</th>\n",
       "      <td>review_scores_communication</td>\n",
       "      <td>0.001850</td>\n",
       "      <td>0.015064</td>\n",
       "    </tr>\n",
       "    <tr>\n",
       "      <th>4</th>\n",
       "      <td>review_scores_cleanliness</td>\n",
       "      <td>0.027069</td>\n",
       "      <td>0.108262</td>\n",
       "    </tr>\n",
       "    <tr>\n",
       "      <th>5</th>\n",
       "      <td>host_listings_count</td>\n",
       "      <td>0.021686</td>\n",
       "      <td>0.043978</td>\n",
       "    </tr>\n",
       "    <tr>\n",
       "      <th>6</th>\n",
       "      <td>violent_crimes</td>\n",
       "      <td>-0.050709</td>\n",
       "      <td>-0.054925</td>\n",
       "    </tr>\n",
       "  </tbody>\n",
       "</table>\n",
       "</div>"
      ],
      "text/plain": [
       "                       feature         r       rho\n",
       "0                 accommodates  0.335127  0.603468\n",
       "1          review_scores_value -0.011439 -0.028919\n",
       "2       review_scores_location  0.057894  0.199798\n",
       "3  review_scores_communication  0.001850  0.015064\n",
       "4    review_scores_cleanliness  0.027069  0.108262\n",
       "5          host_listings_count  0.021686  0.043978\n",
       "6               violent_crimes -0.050709 -0.054925"
      ]
     },
     "execution_count": 28,
     "metadata": {},
     "output_type": "execute_result"
    }
   ],
   "source": [
    "correlations(combined_non_nan, \"price\", ['accommodates',\n",
    "                                 'review_scores_value',\n",
    "                                 'review_scores_location',\n",
    "                                 'review_scores_communication',\n",
    "                                 'review_scores_cleanliness',\n",
    "                                 'host_listings_count',\n",
    "                                 'violent_crimes'])"
   ]
  },
  {
   "cell_type": "code",
   "execution_count": 29,
   "metadata": {
    "tags": []
   },
   "outputs": [],
   "source": [
    "import models"
   ]
  },
  {
   "cell_type": "code",
   "execution_count": 30,
   "metadata": {},
   "outputs": [
    {
     "data": {
      "text/html": [
       "<p><strong>Model: price ~ accommodates + review_scores_value + review_scores_location +review_scores_communication + review_scores_cleanliness + host_listings_count + violent_crimes</strong><br/><table>\n",
       "<tbody>\n",
       "<tr><td>                             </td><td>                     </td><td>                     </td><td><strong>95% BCI</strong</td><td>                   </td></tr>\n",
       "<tr><td><strong>Coefficients</strong</td><td>                     </td><td><strong>Mean</strong</td><td><strong>Lo</strong     </td><td><strong>Hi</strong</td></tr>\n",
       "<tr><td>                             </td><td>$\\beta_{0}$          </td><td>-100.09              </td><td>-146.96                 </td><td>-50.22             </td></tr>\n",
       "<tr><td>accommodates                 </td><td>$\\beta_{1}$          </td><td>36.55                </td><td>33.93                   </td><td>39.64              </td></tr>\n",
       "<tr><td>review_scores_value          </td><td>$\\beta_{2}$          </td><td>-47.30               </td><td>-77.15                  </td><td>-10.65             </td></tr>\n",
       "<tr><td>review_scores_location       </td><td>$\\beta_{3}$          </td><td>53.47                </td><td>41.19                   </td><td>66.88              </td></tr>\n",
       "<tr><td>review_scores_communication  </td><td>$\\beta_{4}$          </td><td>2.33                 </td><td>-10.18                  </td><td>19.36              </td></tr>\n",
       "<tr><td>review_scores_cleanliness    </td><td>$\\beta_{5}$          </td><td>22.35                </td><td>-8.03                   </td><td>42.65              </td></tr>\n",
       "<tr><td>host_listings_count          </td><td>$\\beta_{6}$          </td><td>0.02                 </td><td>0.01                    </td><td>0.02               </td></tr>\n",
       "<tr><td>violent_crimes               </td><td>$\\beta_{7}$          </td><td>-0.16                </td><td>-0.22                   </td><td>-0.09              </td></tr>\n",
       "<tr><td>                             </td><td>                     </td><td>                     </td><td>                        </td><td>                   </td></tr>\n",
       "<tr><td><strong>Metrics</strong     </td><td><strong>Mean</strong</td><td><strong>Lo</strong  </td><td><strong>Hi</strong     </td><td>                   </td></tr>\n",
       "<tr><td>$\\sigma$                     </td><td>235.64               </td><td>156.01               </td><td>306.28                  </td><td>                   </td></tr>\n",
       "<tr><td>$R^2$                        </td><td>0.12                 </td><td>0.09                 </td><td>0.23                    </td><td>                   </td></tr>\n",
       "</tbody>\n",
       "</table></p>"
      ],
      "text/latex": [
       "\\textbf{Model: price $\\sim$ accommodates + review\\_scores\\_value + review\\_scores\\_location +review\\_scores\\_communication + review\\_scores\\_cleanliness + host\\_listings\\_count + violent\\_crimes}\n",
       "\n",
       "\\begin{tabular}{lllll}\n",
       "\\toprule\n",
       "                               &               &               & \\textbf{95\\% BCI} &             \\\\\n",
       " \\textbf{Coefficients}         &               & \\textbf{Mean} & \\textbf{Lo}      & \\textbf{Hi} \\\\\n",
       "                               & $\\beta_{0}$   & -100.09       & -146.96          & -50.22      \\\\\n",
       " accommodates                  & $\\beta_{1}$   & 36.55         & 33.93            & 39.64       \\\\\n",
       " review\\_scores\\_value         & $\\beta_{2}$   & -47.30        & -77.15           & -10.65      \\\\\n",
       " review\\_scores\\_location      & $\\beta_{3}$   & 53.47         & 41.19            & 66.88       \\\\\n",
       " review\\_scores\\_communication & $\\beta_{4}$   & 2.33          & -10.18           & 19.36       \\\\\n",
       " review\\_scores\\_cleanliness   & $\\beta_{5}$   & 22.35         & -8.03            & 42.65       \\\\\n",
       " host\\_listings\\_count         & $\\beta_{6}$   & 0.02          & 0.01             & 0.02        \\\\\n",
       " violent\\_crimes               & $\\beta_{7}$   & -0.16         & -0.22            & -0.09       \\\\\n",
       "                               &               &               &                  &             \\\\\n",
       " \\textbf{Metrics}              & \\textbf{Mean} & \\textbf{Lo}   & \\textbf{Hi}      &             \\\\\n",
       " $\\sigma$                      & 235.64        & 156.01        & 306.28           &             \\\\\n",
       " $R^2$                         & 0.12          & 0.09          & 0.23             &             \\\\\n",
       "\\bottomrule\n",
       "\\end{tabular}"
      ],
      "text/markdown": [
       "Model: price ~ accommodates + review_scores_value + review_scores_location +review_scores_communication + review_scores_cleanliness + host_listings_count + violent_crimes\n",
       "|-----------------------------|-------------|----------|-------------|--------|\n",
       "|                             |             |          | **95% BCI** |        |\n",
       "| **Coefficients**            |             | **Mean** | **Lo**      | **Hi** |\n",
       "|                             | $\\beta_{0}$ | -100.09  | -146.96     | -50.22 |\n",
       "| accommodates                | $\\beta_{1}$ | 36.55    | 33.93       | 39.64  |\n",
       "| review_scores_value         | $\\beta_{2}$ | -47.30   | -77.15      | -10.65 |\n",
       "| review_scores_location      | $\\beta_{3}$ | 53.47    | 41.19       | 66.88  |\n",
       "| review_scores_communication | $\\beta_{4}$ | 2.33     | -10.18      | 19.36  |\n",
       "| review_scores_cleanliness   | $\\beta_{5}$ | 22.35    | -8.03       | 42.65  |\n",
       "| host_listings_count         | $\\beta_{6}$ | 0.02     | 0.01        | 0.02   |\n",
       "| violent_crimes              | $\\beta_{7}$ | -0.16    | -0.22       | -0.09  |\n",
       "|                             |             |          |             |        |\n",
       "| **Metrics**                 | **Mean**    | **Lo**   | **Hi**      |        |\n",
       "| $\\sigma$                    | 235.64      | 156.01   | 306.28      |        |\n",
       "| $R^2$                       | 0.12        | 0.09     | 0.23        |        |"
      ],
      "text/plain": [
       "<models.ResultsWrapper at 0x1b946be50>"
      ]
     },
     "execution_count": 30,
     "metadata": {},
     "output_type": "execute_result"
    }
   ],
   "source": [
    "model = \"price ~ accommodates + review_scores_value + review_scores_location +review_scores_communication + review_scores_cleanliness + host_listings_count + violent_crimes\"\n",
    "result1 = models.bootstrap_linear_regression(model, data=combined_non_nan)\n",
    "models.describe_bootstrap_lr(result1)"
   ]
  },
  {
   "cell_type": "code",
   "execution_count": 31,
   "metadata": {},
   "outputs": [],
   "source": [
    "def plot_residuals(result, variables):\n",
    "    figure = plt.figure(figsize=(20,6))\n",
    "\n",
    "    plots = len( variables)\n",
    "    rows = (plots // 3) + 1\n",
    "\n",
    "    residuals = np.array([r[0] for r in result[\"residuals\"]])\n",
    "    limits = max(np.abs(residuals.min()), residuals.max())\n",
    "    \n",
    "    n = result[\"n\"]\n",
    "    for i, variable in enumerate( variables):\n",
    "        axes = figure.add_subplot(rows, 3, i + 1)\n",
    "\n",
    "        keyed_values = sorted(zip(combined_non_nan[variable].values, residuals), key=lambda x: x[ 0])\n",
    "        ordered_residuals = [x[ 1] for x in keyed_values]\n",
    "\n",
    "        axes.plot(list(range(0, n)), ordered_residuals, '.', color=\"dimgray\", alpha=0.75)\n",
    "        axes.axhline(y=0.0, xmin=0, xmax=n, c=\"firebrick\", alpha=0.5)\n",
    "        axes.set_ylim((-limits, limits))\n",
    "        axes.set_ylabel(\"residuals\")\n",
    "        axes.set_xlabel(variable)\n",
    "\n",
    "    plt.show()\n",
    "    plt.close()\n",
    "    \n",
    "    return residuals"
   ]
  },
  {
   "cell_type": "code",
   "execution_count": 32,
   "metadata": {
    "scrolled": true
   },
   "outputs": [
    {
     "data": {
      "image/png": "[encoded data removed]",
      "text/plain": [
       "<Figure size 2000x600 with 6 Axes>"
      ]
     },
     "metadata": {},
     "output_type": "display_data"
    }
   ],
   "source": [
    "residuals1 = plot_residuals(result1, ['accommodates',\n",
    "                                 'review_scores_value',\n",
    "                                 'review_scores_location',\n",
    "                                 'review_scores_communication',\n",
    "                                 'review_scores_cleanliness',\n",
    "                                 'host_listings_count'])"
   ]
  },
  {
   "cell_type": "code",
   "execution_count": null,
   "metadata": {},
   "outputs": [],
   "source": []
  }
 ],
 "metadata": {
  "interpreter": {
   "hash": "757a43a63dbdd1886d37f8aeabe8f65b30b507bf5c396ccf6c5302a2be001ff1"
  },
  "kernelspec": {
   "display_name": "Python (en685648)",
   "language": "python",
   "name": "python3"
  },
  "language_info": {
   "codemirror_mode": {
    "name": "ipython",
    "version": 3
   },
   "file_extension": ".py",
   "mimetype": "text/x-python",
   "name": "python",
   "nbconvert_exporter": "python",
   "pygments_lexer": "ipython3",
   "version": "3.10.6"
  }
 },
 "nbformat": 4,
 "nbformat_minor": 4
}
