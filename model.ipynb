{
 "cells": [
  {
   "cell_type": "code",
   "execution_count": 1,
   "metadata": {},
   "outputs": [],
   "source": [
    "import warnings\n",
    "warnings.filterwarnings('ignore')"
   ]
  },
  {
   "cell_type": "markdown",
   "metadata": {},
   "source": [
    "# Group Project - Linear Models"
   ]
  },
  {
   "cell_type": "code",
   "execution_count": 2,
   "metadata": {},
   "outputs": [],
   "source": [
    "%matplotlib inline"
   ]
  },
  {
   "cell_type": "code",
   "execution_count": 3,
   "metadata": {},
   "outputs": [],
   "source": [
    "import numpy as np\n",
    "import random as py_random\n",
    "import numpy.random as np_random\n",
    "import time\n",
    "import seaborn as sns\n",
    "import matplotlib.pyplot as plt\n",
    "import pandas as pd\n",
    "import scipy.stats as stats\n",
    "import duckdb\n",
    "\n",
    "sns.set(style=\"whitegrid\")"
   ]
  },
  {
   "cell_type": "markdown",
   "metadata": {},
   "source": [
    "## Data Loading"
   ]
  },
  {
   "cell_type": "code",
   "execution_count": 4,
   "metadata": {},
   "outputs": [],
   "source": [
    "con = duckdb.connect(database='ps6.duckdb', read_only=False)"
   ]
  },
  {
   "cell_type": "code",
   "execution_count": 5,
   "metadata": {},
   "outputs": [],
   "source": [
    "# Loading dataset\n",
    "# connect to database\n",
    "\n",
    "# read the result of an arbitrary SQL query to a Pandas DataFrame\n",
    "all_listings = con.execute(\"SELECT * from all_listings\").df()"
   ]
  },
  {
   "cell_type": "code",
   "execution_count": 6,
   "metadata": {},
   "outputs": [],
   "source": [
    "latest_listings = con.execute(\"SELECT * from latest_listings\").df()"
   ]
  },
  {
   "cell_type": "code",
   "execution_count": 7,
   "metadata": {},
   "outputs": [],
   "source": [
    "neighborhoods = con.execute(\"SELECT * from neighborhoods\").df()"
   ]
  },
  {
   "cell_type": "code",
   "execution_count": 8,
   "metadata": {},
   "outputs": [],
   "source": [
    "reviews = con.execute(\"SELECT * from reviews\").df()"
   ]
  },
  {
   "cell_type": "code",
   "execution_count": 9,
   "metadata": {},
   "outputs": [],
   "source": [
    "calendar = con.execute(\"SELECT * from calendar\").df()"
   ]
  },
  {
   "cell_type": "code",
   "execution_count": 10,
   "metadata": {},
   "outputs": [],
   "source": [
    "crimes = con.execute(\"SELECT * from calendar\").df()"
   ]
  },
  {
   "cell_type": "code",
   "execution_count": 12,
   "metadata": {},
   "outputs": [],
   "source": [
    "neighborhood_crimes = con.execute(\"SELECT * from neighborhood_crimes\").df()"
   ]
  },
  {
   "cell_type": "code",
   "execution_count": 13,
   "metadata": {},
   "outputs": [],
   "source": [
    "full_latest_listings = con.execute(\"SELECT * from full_latest_listings\").df()"
   ]
  },
  {
   "cell_type": "code",
   "execution_count": 171,
   "metadata": {
    "collapsed": true,
    "jupyter": {
     "outputs_hidden": true
    }
   },
   "outputs": [
    {
     "name": "stdout",
     "output_type": "stream",
     "text": [
      "<class 'pandas.core.frame.DataFrame'>\n",
      "RangeIndex: 39 entries, 0 to 38\n",
      "Data columns (total 6 columns):\n",
      " #   Column               Non-Null Count  Dtype \n",
      "---  ------               --------------  ----- \n",
      " 0   neighbourhood_group  0 non-null      object\n",
      " 1   neighbourhood        39 non-null     object\n",
      " 2   type_outer           39 non-null     object\n",
      " 3   feature_type         39 non-null     object\n",
      " 4   geometry_type        39 non-null     object\n",
      " 5   coordinates          39 non-null     object\n",
      "dtypes: object(6)\n",
      "memory usage: 2.0+ KB\n"
     ]
    }
   ],
   "source": [
    "all_listings.info()"
   ]
  },
  {
   "cell_type": "code",
   "execution_count": 5,
   "metadata": {
    "collapsed": true,
    "jupyter": {
     "outputs_hidden": true
    }
   },
   "outputs": [
    {
     "name": "stdout",
     "output_type": "stream",
     "text": [
      "<class 'pandas.core.frame.DataFrame'>\n",
      "RangeIndex: 1338 entries, 0 to 1337\n",
      "Data columns (total 7 columns):\n",
      " #   Column    Non-Null Count  Dtype  \n",
      "---  ------    --------------  -----  \n",
      " 0   age       1338 non-null   int64  \n",
      " 1   sex       1338 non-null   object \n",
      " 2   bmi       1338 non-null   float64\n",
      " 3   children  1338 non-null   int64  \n",
      " 4   smoker    1338 non-null   object \n",
      " 5   region    1338 non-null   object \n",
      " 6   charges   1338 non-null   float64\n",
      "dtypes: float64(2), int64(2), object(3)\n",
      "memory usage: 73.3+ KB\n"
     ]
    }
   ],
   "source": [
    "latest_listings.info()"
   ]
  },
  {
   "cell_type": "code",
   "execution_count": null,
   "metadata": {},
   "outputs": [],
   "source": [
    "neighborhoods.info()"
   ]
  },
  {
   "cell_type": "code",
   "execution_count": null,
   "metadata": {},
   "outputs": [],
   "source": [
    "reviews.info()"
   ]
  },
  {
   "cell_type": "code",
   "execution_count": null,
   "metadata": {},
   "outputs": [],
   "source": [
    "calendar.info()"
   ]
  },
  {
   "cell_type": "code",
   "execution_count": null,
   "metadata": {},
   "outputs": [],
   "source": [
    "crimes.info()"
   ]
  },
  {
   "cell_type": "code",
   "execution_count": null,
   "metadata": {},
   "outputs": [],
   "source": [
    "neighborhood_crimes.info()"
   ]
  },
  {
   "cell_type": "code",
   "execution_count": 14,
   "metadata": {},
   "outputs": [
    {
     "name": "stdout",
     "output_type": "stream",
     "text": [
      "<class 'pandas.core.frame.DataFrame'>\n",
      "RangeIndex: 10560 entries, 0 to 10559\n",
      "Data columns (total 85 columns):\n",
      " #   Column                                        Non-Null Count  Dtype         \n",
      "---  ------                                        --------------  -----         \n",
      " 0   id                                            10560 non-null  int64         \n",
      " 1   listing_url                                   10560 non-null  object        \n",
      " 2   scrape_id                                     10560 non-null  int64         \n",
      " 3   last_scraped                                  10560 non-null  datetime64[ns]\n",
      " 4   name                                          10559 non-null  object        \n",
      " 5   description                                   10416 non-null  object        \n",
      " 6   neighborhood_overview                         6559 non-null   object        \n",
      " 7   picture_url                                   10560 non-null  object        \n",
      " 8   host_id                                       10560 non-null  int32         \n",
      " 9   host_url                                      10560 non-null  object        \n",
      " 10  host_name                                     10398 non-null  object        \n",
      " 11  host_since                                    10398 non-null  datetime64[ns]\n",
      " 12  host_location                                 9548 non-null   object        \n",
      " 13  host_about                                    6013 non-null   object        \n",
      " 14  host_response_time                            10398 non-null  object        \n",
      " 15  host_response_rate                            10398 non-null  object        \n",
      " 16  host_acceptance_rate                          10398 non-null  object        \n",
      " 17  host_is_superhost                             10554 non-null  object        \n",
      " 18  host_thumbnail_url                            10398 non-null  object        \n",
      " 19  host_picture_url                              10398 non-null  object        \n",
      " 20  host_neighbourhood                            9583 non-null   object        \n",
      " 21  host_listings_count                           10398 non-null  float64       \n",
      " 22  host_total_listings_count                     10398 non-null  float64       \n",
      " 23  host_verifications                            10560 non-null  object        \n",
      " 24  host_has_profile_pic                          10398 non-null  object        \n",
      " 25  host_identity_verified                        10398 non-null  object        \n",
      " 26  neighbourhood                                 6559 non-null   object        \n",
      " 27  neighbourhood_cleansed                        10560 non-null  object        \n",
      " 28  neighbourhood_group_cleansed                  0 non-null      float64       \n",
      " 29  latitude                                      10560 non-null  float64       \n",
      " 30  longitude                                     10560 non-null  float64       \n",
      " 31  property_type                                 10560 non-null  object        \n",
      " 32  room_type                                     10560 non-null  object        \n",
      " 33  accommodates                                  10560 non-null  int32         \n",
      " 34  bathrooms                                     0 non-null      float64       \n",
      " 35  bathrooms_text                                10546 non-null  object        \n",
      " 36  bedrooms                                      9600 non-null   float64       \n",
      " 37  beds                                          10291 non-null  float64       \n",
      " 38  amenities                                     10560 non-null  object        \n",
      " 39  price                                         10560 non-null  float64       \n",
      " 40  minimum_nights                                10560 non-null  int32         \n",
      " 41  maximum_nights                                10560 non-null  int32         \n",
      " 42  minimum_minimum_nights                        10557 non-null  float64       \n",
      " 43  maximum_minimum_nights                        10557 non-null  float64       \n",
      " 44  minimum_maximum_nights                        10557 non-null  float64       \n",
      " 45  maximum_maximum_nights                        10557 non-null  float64       \n",
      " 46  minimum_nights_avg_ntm                        10557 non-null  float64       \n",
      " 47  maximum_nights_avg_ntm                        10557 non-null  float64       \n",
      " 48  calendar_updated                              0 non-null      float64       \n",
      " 49  has_availability                              10560 non-null  bool          \n",
      " 50  availability_30                               10560 non-null  int32         \n",
      " 51  availability_60                               10560 non-null  int32         \n",
      " 52  availability_90                               10560 non-null  int32         \n",
      " 53  availability_365                              10560 non-null  int32         \n",
      " 54  calendar_last_scraped                         10560 non-null  datetime64[ns]\n",
      " 55  number_of_reviews                             10560 non-null  int32         \n",
      " 56  number_of_reviews_ltm                         10560 non-null  int32         \n",
      " 57  number_of_reviews_l30d                        10560 non-null  int32         \n",
      " 58  first_review                                  7740 non-null   datetime64[ns]\n",
      " 59  last_review                                   7740 non-null   datetime64[ns]\n",
      " 60  review_scores_rating                          7740 non-null   float64       \n",
      " 61  review_scores_accuracy                        7656 non-null   float64       \n",
      " 62  review_scores_cleanliness                     7657 non-null   float64       \n",
      " 63  review_scores_checkin                         7654 non-null   float64       \n",
      " 64  review_scores_communication                   7657 non-null   float64       \n",
      " 65  review_scores_location                        7655 non-null   float64       \n",
      " 66  review_scores_value                           7652 non-null   float64       \n",
      " 67  license                                       3427 non-null   object        \n",
      " 68  instant_bookable                              10560 non-null  bool          \n",
      " 69  calculated_host_listings_count                10560 non-null  int32         \n",
      " 70  calculated_host_listings_count_entire_homes   10560 non-null  int32         \n",
      " 71  calculated_host_listings_count_private_rooms  10560 non-null  int32         \n",
      " 72  calculated_host_listings_count_shared_rooms   10560 non-null  int32         \n",
      " 73  reviews_per_month                             7740 non-null   float64       \n",
      " 74  NEIGHBORHOOD_NAME                             10560 non-null  object        \n",
      " 75  homicides                                     10560 non-null  int64         \n",
      " 76  robberies                                     10560 non-null  int64         \n",
      " 77  assaults                                      10560 non-null  int64         \n",
      " 78  theft_from_auto                               10560 non-null  int64         \n",
      " 79  other_thefts                                  10560 non-null  int64         \n",
      " 80  vehicle_theft                                 10560 non-null  int64         \n",
      " 81  burglaries                                    10560 non-null  int64         \n",
      " 82  sex_abuses                                    10560 non-null  int64         \n",
      " 83  arsons                                        10560 non-null  int64         \n",
      " 84  total_crimes                                  10560 non-null  int64         \n",
      "dtypes: bool(2), datetime64[ns](5), float64(24), int32(15), int64(12), object(27)\n",
      "memory usage: 6.1+ MB\n"
     ]
    }
   ],
   "source": [
    "full_latest_listings.info()"
   ]
  },
  {
   "cell_type": "markdown",
   "metadata": {},
   "source": [
    "Variables to include in first linear regression:\n",
    "* accomodates (listings)\n",
    "* room_type (listings)\n",
    "* review_score_value (listings)\n",
    "* review_score_location (listings)\n",
    "* review_score_communication (listings)\n",
    "* review_score_cleanliness (listings)\n",
    "* violent_crime_per_neighborhood (???)\n",
    "* host_identity_verified (listings)\n",
    "* host_acceptance_rate (listings)\n",
    "* host_listings_count MAYBE (listings)"
   ]
  },
  {
   "cell_type": "code",
   "execution_count": 22,
   "metadata": {},
   "outputs": [],
   "source": [
    "## create jumbo dataframe of all of these\n",
    "combined = full_latest_listings[full_latest_listings[['price',\n",
    "                                 'accommodates',\n",
    "                                 'room_type',\n",
    "                                 'review_scores_value',\n",
    "                                 'review_scores_location',\n",
    "                                 'review_scores_communication',\n",
    "                                 'review_scores_cleanliness',\n",
    "                                 'host_identity_verified',\n",
    "                                 'host_acceptance_rate',\n",
    "                                 'host_listings_count']].notnull().all(1)]\n",
    "filtered_df = df[df[['name', 'country', 'region']].notnull().all(1)]"
   ]
  },
  {
   "cell_type": "code",
   "execution_count": 31,
   "metadata": {},
   "outputs": [],
   "source": [
    "combined_non_nan = full_latest_listings[full_latest_listings[['price',\n",
    "                                 'accommodates',\n",
    "                                 'room_type',\n",
    "                                 'review_scores_value',\n",
    "                                 'review_scores_location',\n",
    "                                 'review_scores_communication',\n",
    "                                 'review_scores_cleanliness',\n",
    "                                 'host_identity_verified',\n",
    "                                 'host_acceptance_rate',\n",
    "                                 'host_listings_count']].notnull().all(1)]\n",
    "combined_non_nan = combined_non_nan[['price',\n",
    "                                 'accommodates',\n",
    "                                 'room_type',\n",
    "                                 'review_scores_value',\n",
    "                                 'review_scores_location',\n",
    "                                 'review_scores_communication',\n",
    "                                 'review_scores_cleanliness',\n",
    "                                 'host_identity_verified',\n",
    "                                 'host_acceptance_rate',\n",
    "                                 'host_listings_count']].copy()"
   ]
  },
  {
   "cell_type": "code",
   "execution_count": 32,
   "metadata": {},
   "outputs": [
    {
     "name": "stdout",
     "output_type": "stream",
     "text": [
      "<class 'pandas.core.frame.DataFrame'>\n",
      "Int64Index: 7520 entries, 0 to 10549\n",
      "Data columns (total 10 columns):\n",
      " #   Column                       Non-Null Count  Dtype  \n",
      "---  ------                       --------------  -----  \n",
      " 0   price                        7520 non-null   float64\n",
      " 1   accommodates                 7520 non-null   int32  \n",
      " 2   room_type                    7520 non-null   object \n",
      " 3   review_scores_value          7520 non-null   float64\n",
      " 4   review_scores_location       7520 non-null   float64\n",
      " 5   review_scores_communication  7520 non-null   float64\n",
      " 6   review_scores_cleanliness    7520 non-null   float64\n",
      " 7   host_identity_verified       7520 non-null   object \n",
      " 8   host_acceptance_rate         7520 non-null   object \n",
      " 9   host_listings_count          7520 non-null   float64\n",
      "dtypes: float64(6), int32(1), object(3)\n",
      "memory usage: 616.9+ KB\n"
     ]
    }
   ],
   "source": [
    "combined_non_nan.info()"
   ]
  },
  {
   "cell_type": "code",
   "execution_count": 46,
   "metadata": {},
   "outputs": [],
   "source": [
    "# TODO: Add columns from other databases\n",
    "# violent_crime_per_neighborhood"
   ]
  },
  {
   "cell_type": "code",
   "execution_count": 45,
   "metadata": {},
   "outputs": [],
   "source": [
    "# TODO: Encode categorical variables into one-hot-encodings"
   ]
  },
  {
   "cell_type": "code",
   "execution_count": 19,
   "metadata": {},
   "outputs": [],
   "source": [
    "def correlations(data, y, xs):\n",
    "    rs = []\n",
    "    rhos = []\n",
    "    for x in xs:\n",
    "        r = stats.pearsonr(data[y], data[x])[0]\n",
    "        rs.append(r)\n",
    "        rho = stats.spearmanr(data[y], data[x])[0]\n",
    "        rhos.append(rho)\n",
    "    return pd.DataFrame({\"feature\": xs, \"r\": rs, \"rho\": rhos})"
   ]
  },
  {
   "cell_type": "code",
   "execution_count": null,
   "metadata": {},
   "outputs": [],
   "source": [
    "# get rid of NaNs\n",
    "combined = combined()"
   ]
  },
  {
   "cell_type": "code",
   "execution_count": 34,
   "metadata": {},
   "outputs": [
    {
     "data": {
      "text/html": [
       "<div>\n",
       "<style scoped>\n",
       "    .dataframe tbody tr th:only-of-type {\n",
       "        vertical-align: middle;\n",
       "    }\n",
       "\n",
       "    .dataframe tbody tr th {\n",
       "        vertical-align: top;\n",
       "    }\n",
       "\n",
       "    .dataframe thead th {\n",
       "        text-align: right;\n",
       "    }\n",
       "</style>\n",
       "<table border=\"1\" class=\"dataframe\">\n",
       "  <thead>\n",
       "    <tr style=\"text-align: right;\">\n",
       "      <th></th>\n",
       "      <th>feature</th>\n",
       "      <th>r</th>\n",
       "      <th>rho</th>\n",
       "    </tr>\n",
       "  </thead>\n",
       "  <tbody>\n",
       "    <tr>\n",
       "      <th>0</th>\n",
       "      <td>accommodates</td>\n",
       "      <td>0.335127</td>\n",
       "      <td>0.603468</td>\n",
       "    </tr>\n",
       "    <tr>\n",
       "      <th>1</th>\n",
       "      <td>review_scores_value</td>\n",
       "      <td>-0.011439</td>\n",
       "      <td>-0.028919</td>\n",
       "    </tr>\n",
       "    <tr>\n",
       "      <th>2</th>\n",
       "      <td>review_scores_location</td>\n",
       "      <td>0.057894</td>\n",
       "      <td>0.199798</td>\n",
       "    </tr>\n",
       "    <tr>\n",
       "      <th>3</th>\n",
       "      <td>review_scores_communication</td>\n",
       "      <td>0.001850</td>\n",
       "      <td>0.015064</td>\n",
       "    </tr>\n",
       "    <tr>\n",
       "      <th>4</th>\n",
       "      <td>review_scores_cleanliness</td>\n",
       "      <td>0.027069</td>\n",
       "      <td>0.108262</td>\n",
       "    </tr>\n",
       "    <tr>\n",
       "      <th>5</th>\n",
       "      <td>host_listings_count</td>\n",
       "      <td>0.021686</td>\n",
       "      <td>0.043978</td>\n",
       "    </tr>\n",
       "  </tbody>\n",
       "</table>\n",
       "</div>"
      ],
      "text/plain": [
       "                       feature         r       rho\n",
       "0                 accommodates  0.335127  0.603468\n",
       "1          review_scores_value -0.011439 -0.028919\n",
       "2       review_scores_location  0.057894  0.199798\n",
       "3  review_scores_communication  0.001850  0.015064\n",
       "4    review_scores_cleanliness  0.027069  0.108262\n",
       "5          host_listings_count  0.021686  0.043978"
      ]
     },
     "execution_count": 34,
     "metadata": {},
     "output_type": "execute_result"
    }
   ],
   "source": [
    "correlations(combined_non_nan, \"price\", ['accommodates',\n",
    "                                 'review_scores_value',\n",
    "                                 'review_scores_location',\n",
    "                                 'review_scores_communication',\n",
    "                                 'review_scores_cleanliness',\n",
    "                                 'host_listings_count'])"
   ]
  },
  {
   "cell_type": "code",
   "execution_count": 36,
   "metadata": {
    "tags": []
   },
   "outputs": [],
   "source": [
    "import models"
   ]
  },
  {
   "cell_type": "code",
   "execution_count": 37,
   "metadata": {},
   "outputs": [
    {
     "data": {
      "text/html": [
       "<p><strong>Model: price ~ accommodates + review_scores_value + review_scores_location +review_scores_communication + review_scores_cleanliness + host_listings_count</strong><br/><table>\n",
       "<tbody>\n",
       "<tr><td>                             </td><td>                     </td><td>                     </td><td><strong>95% BCI</strong</td><td>                   </td></tr>\n",
       "<tr><td><strong>Coefficients</strong</td><td>                     </td><td><strong>Mean</strong</td><td><strong>Lo</strong     </td><td><strong>Hi</strong</td></tr>\n",
       "<tr><td>                             </td><td>$\\beta_{0}$          </td><td>-137.41              </td><td>-191.32                 </td><td>-79.58             </td></tr>\n",
       "<tr><td>accommodates                 </td><td>$\\beta_{1}$          </td><td>36.32                </td><td>32.86                   </td><td>40.43              </td></tr>\n",
       "<tr><td>review_scores_value          </td><td>$\\beta_{2}$          </td><td>-50.40               </td><td>-81.94                  </td><td>-22.54             </td></tr>\n",
       "<tr><td>review_scores_location       </td><td>$\\beta_{3}$          </td><td>62.41                </td><td>47.43                   </td><td>78.68              </td></tr>\n",
       "<tr><td>review_scores_communication  </td><td>$\\beta_{4}$          </td><td>0.44                 </td><td>-13.88                  </td><td>14.02              </td></tr>\n",
       "<tr><td>review_scores_cleanliness    </td><td>$\\beta_{5}$          </td><td>21.89                </td><td>-0.69                   </td><td>42.41              </td></tr>\n",
       "<tr><td>host_listings_count          </td><td>$\\beta_{6}$          </td><td>0.02                 </td><td>0.01                    </td><td>0.02               </td></tr>\n",
       "<tr><td>                             </td><td>                     </td><td>                     </td><td>                        </td><td>                   </td></tr>\n",
       "<tr><td><strong>Metrics</strong     </td><td><strong>Mean</strong</td><td><strong>Lo</strong  </td><td><strong>Hi</strong     </td><td>                   </td></tr>\n",
       "<tr><td>$\\sigma$                     </td><td>235.96               </td><td>162.56               </td><td>301.87                  </td><td>                   </td></tr>\n",
       "<tr><td>$R^2$                        </td><td>0.12                 </td><td>0.09                 </td><td>0.21                    </td><td>                   </td></tr>\n",
       "</tbody>\n",
       "</table></p>"
      ],
      "text/latex": [
       "\\textbf{Model: price $\\sim$ accommodates + review\\_scores\\_value + review\\_scores\\_location +review\\_scores\\_communication + review\\_scores\\_cleanliness + host\\_listings\\_count}\n",
       "\n",
       "\\begin{tabular}{lllll}\n",
       "\\toprule\n",
       "                               &               &               & \\textbf{95\\% BCI} &             \\\\\n",
       " \\textbf{Coefficients}         &               & \\textbf{Mean} & \\textbf{Lo}      & \\textbf{Hi} \\\\\n",
       "                               & $\\beta_{0}$   & -137.41       & -191.32          & -79.58      \\\\\n",
       " accommodates                  & $\\beta_{1}$   & 36.32         & 32.86            & 40.43       \\\\\n",
       " review\\_scores\\_value         & $\\beta_{2}$   & -50.40        & -81.94           & -22.54      \\\\\n",
       " review\\_scores\\_location      & $\\beta_{3}$   & 62.41         & 47.43            & 78.68       \\\\\n",
       " review\\_scores\\_communication & $\\beta_{4}$   & 0.44          & -13.88           & 14.02       \\\\\n",
       " review\\_scores\\_cleanliness   & $\\beta_{5}$   & 21.89         & -0.69            & 42.41       \\\\\n",
       " host\\_listings\\_count         & $\\beta_{6}$   & 0.02          & 0.01             & 0.02        \\\\\n",
       "                               &               &               &                  &             \\\\\n",
       " \\textbf{Metrics}              & \\textbf{Mean} & \\textbf{Lo}   & \\textbf{Hi}      &             \\\\\n",
       " $\\sigma$                      & 235.96        & 162.56        & 301.87           &             \\\\\n",
       " $R^2$                         & 0.12          & 0.09          & 0.21             &             \\\\\n",
       "\\bottomrule\n",
       "\\end{tabular}"
      ],
      "text/markdown": [
       "Model: price ~ accommodates + review_scores_value + review_scores_location +review_scores_communication + review_scores_cleanliness + host_listings_count\n",
       "|-----------------------------|-------------|----------|-------------|--------|\n",
       "|                             |             |          | **95% BCI** |        |\n",
       "| **Coefficients**            |             | **Mean** | **Lo**      | **Hi** |\n",
       "|                             | $\\beta_{0}$ | -137.41  | -191.32     | -79.58 |\n",
       "| accommodates                | $\\beta_{1}$ | 36.32    | 32.86       | 40.43  |\n",
       "| review_scores_value         | $\\beta_{2}$ | -50.40   | -81.94      | -22.54 |\n",
       "| review_scores_location      | $\\beta_{3}$ | 62.41    | 47.43       | 78.68  |\n",
       "| review_scores_communication | $\\beta_{4}$ | 0.44     | -13.88      | 14.02  |\n",
       "| review_scores_cleanliness   | $\\beta_{5}$ | 21.89    | -0.69       | 42.41  |\n",
       "| host_listings_count         | $\\beta_{6}$ | 0.02     | 0.01        | 0.02   |\n",
       "|                             |             |          |             |        |\n",
       "| **Metrics**                 | **Mean**    | **Lo**   | **Hi**      |        |\n",
       "| $\\sigma$                    | 235.96      | 162.56   | 301.87      |        |\n",
       "| $R^2$                       | 0.12        | 0.09     | 0.21        |        |"
      ],
      "text/plain": [
       "<models.ResultsWrapper at 0x1b4404ee0>"
      ]
     },
     "execution_count": 37,
     "metadata": {},
     "output_type": "execute_result"
    }
   ],
   "source": [
    "model = \"price ~ accommodates + review_scores_value + review_scores_location +review_scores_communication + review_scores_cleanliness + host_listings_count\"\n",
    "result1 = models.bootstrap_linear_regression(model, data=combined_non_nan)\n",
    "models.describe_bootstrap_lr(result1)"
   ]
  },
  {
   "cell_type": "code",
   "execution_count": 43,
   "metadata": {},
   "outputs": [],
   "source": [
    "def plot_residuals(result, variables):\n",
    "    figure = plt.figure(figsize=(20,6))\n",
    "\n",
    "    plots = len( variables)\n",
    "    rows = (plots // 3) + 1\n",
    "\n",
    "    residuals = np.array([r[0] for r in result[\"residuals\"]])\n",
    "    limits = max(np.abs(residuals.min()), residuals.max())\n",
    "    \n",
    "    n = result[\"n\"]\n",
    "    for i, variable in enumerate( variables):\n",
    "        axes = figure.add_subplot(rows, 3, i + 1)\n",
    "\n",
    "        keyed_values = sorted(zip(combined_non_nan[variable].values, residuals), key=lambda x: x[ 0])\n",
    "        ordered_residuals = [x[ 1] for x in keyed_values]\n",
    "\n",
    "        axes.plot(list(range(0, n)), ordered_residuals, '.', color=\"dimgray\", alpha=0.75)\n",
    "        axes.axhline(y=0.0, xmin=0, xmax=n, c=\"firebrick\", alpha=0.5)\n",
    "        axes.set_ylim((-limits, limits))\n",
    "        axes.set_ylabel(\"residuals\")\n",
    "        axes.set_xlabel(variable)\n",
    "\n",
    "    plt.show()\n",
    "    plt.close()\n",
    "    \n",
    "    return residuals"
   ]
  },
  {
   "cell_type": "code",
   "execution_count": 44,
   "metadata": {
    "scrolled": true
   },
   "outputs": [
    {
     "data": {
      "image/png": "[encoded data removed]",
      "text/plain": [
       "<Figure size 2000x600 with 6 Axes>"
      ]
     },
     "metadata": {},
     "output_type": "display_data"
    }
   ],
   "source": [
    "residuals1 = plot_residuals(result1, ['accommodates',\n",
    "                                 'review_scores_value',\n",
    "                                 'review_scores_location',\n",
    "                                 'review_scores_communication',\n",
    "                                 'review_scores_cleanliness',\n",
    "                                 'host_listings_count'])"
   ]
  },
  {
   "cell_type": "code",
   "execution_count": null,
   "metadata": {},
   "outputs": [],
   "source": []
  }
 ],
 "metadata": {
  "kernelspec": {
   "display_name": "Python (en685648)",
   "language": "python",
   "name": "en685648"
  },
  "language_info": {
   "codemirror_mode": {
    "name": "ipython",
    "version": 3
   },
   "file_extension": ".py",
   "mimetype": "text/x-python",
   "name": "python",
   "nbconvert_exporter": "python",
   "pygments_lexer": "ipython3",
   "version": "3.10.6"
  }
 },
 "nbformat": 4,
 "nbformat_minor": 4
}
