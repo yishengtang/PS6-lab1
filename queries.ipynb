{
 "cells": [
  {
   "cell_type": "markdown",
   "id": "5b67f2f6",
   "metadata": {},
   "source": [
    "# ASK - Queries"
   ]
  },
  {
   "cell_type": "markdown",
   "id": "9a503d9d",
   "metadata": {},
   "source": [
    "The AirBnB dataset was obtained from the following location [http://insideairbnb.com/get-the-data]. We obtained data for the last four quarters of AirBnB listing data for Washington D.C."
   ]
  },
  {
   "cell_type": "markdown",
   "id": "73a057d0",
   "metadata": {},
   "source": [
    "As we started to investigate the dataset, we started with the following questions:\n",
    "1. What is the context of the need, Who are the stakeholders and other interested parties?\n",
    "2. What is the organizational need which requires fixing with data?\n",
    "3. What is going to be required and what does success look like?\n",
    "4. How will the result work itself back into the organization?"
   ]
  },
  {
   "cell_type": "markdown",
   "id": "73489012",
   "metadata": {},
   "source": [
    "## 1. Context"
   ]
  },
  {
   "cell_type": "markdown",
   "id": "13245ab3",
   "metadata": {},
   "source": [
    "AirBnB is a digital service that connects private individuals who want to rent rooms in their home for a short time with those who are looking to rent a room for an overnight stay. AirBnb is an application platform which facilitate this activity. In AirBnB, those who are offering their home's for rent are called 'hosts' and those who are renting them are 'guests'. AirBnB can be compared to a hotel booking model, except the booked rooms are owned by private individuals in their homes."
   ]
  },
  {
   "cell_type": "markdown",
   "id": "49ea4fa7",
   "metadata": {},
   "source": [
    "The city of Washington D.C. has many AirBnB rentals distributed across the city. As guests look to book a room, they use many signals provided by the AirBnB platform to make their decision, these include - host status (super host), verification, location, reviews, neighborhood, availability, price, and other listing information to narrow down their results."
   ]
  },
  {
   "cell_type": "markdown",
   "id": "d416327d",
   "metadata": {},
   "source": [
    "## 2. Need"
   ]
  },
  {
   "cell_type": "markdown",
   "id": "3168c698",
   "metadata": {},
   "source": [
    "Our team is interested in knowing which factors are the most influential in determining the price of an AirBnB. From our experience booking hotels and using the AirBnB service, we hypothesized that location is one primary factor in determining the price per night of an AirBnB listing, and we would like to know if the relative safety of a neighborhood impacts the prices of AirBnB listings. This line of thinking naturally lead us to consider the characteristics of a location, such as the neighborhood and the safety of the area. This line of linking led us to consider the impact of crime to determine AirBnB pricing. Additionally, we believe that price can be predicted by using the characteristics of a listing, location, crimes (general safety), and reviews. This model will be used to determine pricing power of AirBnBs for hosts and public safety officials."
   ]
  },
  {
   "cell_type": "markdown",
   "id": "1441761b",
   "metadata": {},
   "source": [
    "## 3. Vision"
   ]
  },
  {
   "cell_type": "markdown",
   "id": "a3d67b52",
   "metadata": {},
   "source": [
    "The success of our model is based on the ability of our secondary dataset - crime data to boost the predictive power of our model to determine price. We believe that with sufficient location data and using other information from the listing, we will see that crime and location two factors impacting the price of AirBnBs. "
   ]
  },
  {
   "cell_type": "markdown",
   "id": "cf759bca",
   "metadata": {},
   "source": [
    "## 4. Outcome"
   ]
  },
  {
   "cell_type": "markdown",
   "id": "f2228760",
   "metadata": {},
   "source": [
    "If we can create a model that can accurately predict AirBnB prices, then it can be used as a baseline to help hosts price their AirBnBs more competitively in their market by knowing which factors will lead to the most pricing power. Additionally, We can publish the findings and allow cities and policy makers to understand the impact crime has on these short-term rental operations. "
   ]
  },
  {
   "cell_type": "markdown",
   "id": "af61bf03",
   "metadata": {},
   "source": [
    "# Queries"
   ]
  },
  {
   "cell_type": "code",
   "execution_count": 3,
   "id": "28407217",
   "metadata": {},
   "outputs": [],
   "source": [
    "import numpy as np\n",
    "import time\n",
    "import seaborn as sns\n",
    "import matplotlib.pyplot as plt\n",
    "import scipy.stats as stats\n",
    "import pandas as pd\n",
    "import duckdb\n",
    "\n",
    "sns.set(style=\"whitegrid\")"
   ]
  },
  {
   "cell_type": "code",
   "execution_count": 5,
   "id": "e37ce775",
   "metadata": {},
   "outputs": [],
   "source": [
    "con = duckdb.connect(database='ps6.duckdb', read_only=False)"
   ]
  },
  {
   "cell_type": "markdown",
   "id": "4e3b1062",
   "metadata": {},
   "source": [
    "Count the number of latest listings in the database."
   ]
  },
  {
   "cell_type": "code",
   "execution_count": 13,
   "id": "a4701005",
   "metadata": {},
   "outputs": [
    {
     "name": "stdout",
     "output_type": "stream",
     "text": [
      "[(10560,)]\n"
     ]
    }
   ],
   "source": [
    "con.execute(\"select count(id) from latest_listings;\")\n",
    "print(con.fetchall())"
   ]
  },
  {
   "cell_type": "markdown",
   "id": "03dc25b5",
   "metadata": {},
   "source": [
    "Describe the database tables and data types."
   ]
  },
  {
   "cell_type": "code",
   "execution_count": 16,
   "id": "31dd09c4",
   "metadata": {},
   "outputs": [
    {
     "name": "stdout",
     "output_type": "stream",
     "text": [
      "[('all_listings', ['accommodates', 'amenities', 'availability_30', 'availability_365', 'availability_60', 'availability_90', 'bathrooms', 'bathrooms_text', 'bedrooms', 'beds', 'calculated_host_listings_count', 'calculated_host_listings_count_entire_homes', 'calculated_host_listings_count_private_rooms', 'calculated_host_listings_count_shared_rooms', 'calendar_last_scraped', 'calendar_updated', 'description', 'first_review', 'has_availability', 'host_about', 'host_acceptance_rate', 'host_has_profile_pic', 'host_id', 'host_identity_verified', 'host_is_superhost', 'host_listings_count', 'host_location', 'host_name', 'host_neighbourhood', 'host_picture_url', 'host_response_rate', 'host_response_time', 'host_since', 'host_thumbnail_url', 'host_total_listings_count', 'host_url', 'host_verifications', 'id', 'instant_bookable', 'last_review', 'last_scraped', 'latitude', 'license', 'listing_url', 'longitude', 'maximum_maximum_nights', 'maximum_minimum_nights', 'maximum_nights', 'maximum_nights_avg_ntm', 'minimum_maximum_nights', 'minimum_minimum_nights', 'minimum_nights', 'minimum_nights_avg_ntm', 'name', 'neighborhood_overview', 'neighbourhood', 'neighbourhood_cleansed', 'neighbourhood_group_cleansed', 'number_of_reviews', 'number_of_reviews_l30d', 'number_of_reviews_ltm', 'picture_url', 'price', 'property_type', 'review_scores_accuracy', 'review_scores_checkin', 'review_scores_cleanliness', 'review_scores_communication', 'review_scores_location', 'review_scores_rating', 'review_scores_value', 'reviews_per_month', 'room_type', 'scrape_id'], ['INTEGER', 'VARCHAR', 'INTEGER', 'INTEGER', 'INTEGER', 'INTEGER', 'INTEGER', 'VARCHAR', 'DOUBLE', 'DOUBLE', 'INTEGER', 'INTEGER', 'INTEGER', 'INTEGER', 'TIMESTAMP', 'INTEGER', 'VARCHAR', 'TIMESTAMP', 'BOOLEAN', 'VARCHAR', 'VARCHAR', 'BOOLEAN', 'INTEGER', 'BOOLEAN', 'BOOLEAN', 'DOUBLE', 'VARCHAR', 'VARCHAR', 'VARCHAR', 'VARCHAR', 'VARCHAR', 'VARCHAR', 'TIMESTAMP', 'VARCHAR', 'DOUBLE', 'VARCHAR', 'VARCHAR', 'BIGINT', 'BOOLEAN', 'TIMESTAMP', 'TIMESTAMP', 'DOUBLE', 'VARCHAR', 'VARCHAR', 'DOUBLE', 'DOUBLE', 'DOUBLE', 'INTEGER', 'DOUBLE', 'DOUBLE', 'DOUBLE', 'INTEGER', 'DOUBLE', 'VARCHAR', 'VARCHAR', 'VARCHAR', 'VARCHAR', 'INTEGER', 'INTEGER', 'INTEGER', 'INTEGER', 'VARCHAR', 'DOUBLE', 'VARCHAR', 'DOUBLE', 'DOUBLE', 'DOUBLE', 'DOUBLE', 'DOUBLE', 'DOUBLE', 'DOUBLE', 'DOUBLE', 'VARCHAR', 'BIGINT'], False), ('calendar', ['adjusted_price', 'available', 'date', 'listing_id', 'maximum_nights', 'minimum_nights', 'price'], ['INTEGER', 'VARCHAR', 'DATE', 'BIGINT', 'INTEGER', 'INTEGER', 'INTEGER'], False), ('crimes', ['anc', 'bid', 'block', 'block_group', 'ccn', 'census_tract', 'district', 'end_date', 'latitude', 'location', 'longitude', 'method', 'neighborhood_cluster', 'octo_record_id', 'offense', 'offense_text', 'offensegroup', 'offensekey', 'psa', 'report_dat', 'sector', 'shift', 'start_date', 'ucr_rank', 'voting_precint', 'ward', 'xblock', 'yblock', 'year'], ['VARCHAR', 'VARCHAR', 'VARCHAR', 'VARCHAR', 'INTEGER', 'INTEGER', 'INTEGER', 'VARCHAR', 'DOUBLE', 'VARCHAR', 'DOUBLE', 'VARCHAR', 'VARCHAR', 'VARCHAR', 'VARCHAR', 'VARCHAR', 'VARCHAR', 'VARCHAR', 'INTEGER', 'VARCHAR', 'VARCHAR', 'VARCHAR', 'VARCHAR', 'INTEGER', 'VARCHAR', 'INTEGER', 'DOUBLE', 'DOUBLE', 'INTEGER'], False), ('listings', ['availability_365', 'calculated_host_listings_count', 'host_id', 'host_name', 'id', 'last_review', 'latitude', 'license', 'longitude', 'minimum_nights', 'name', 'neighbourhood', 'neighbourhood_group', 'number_of_reviews', 'number_of_reviews_ltm', 'price', 'reviews_per_month', 'room_type'], ['INTEGER', 'INTEGER', 'INTEGER', 'VARCHAR', 'BIGINT', 'DATE', 'DOUBLE', 'VARCHAR', 'DOUBLE', 'INTEGER', 'VARCHAR', 'VARCHAR', 'VARCHAR', 'INTEGER', 'INTEGER', 'INTEGER', 'DOUBLE', 'VARCHAR'], False), ('neighborhoods', ['coordinates', 'feature_type', 'geometry_type', 'neighbourhood', 'neighbourhood_group', 'type_outer'], ['DOUBLE[][]', 'VARCHAR', 'VARCHAR', 'VARCHAR', 'VARCHAR', 'VARCHAR'], False), ('reviews', ['comments', 'date', 'id', 'listing_id', 'reviewer_id', 'reviewer_name'], ['VARCHAR', 'DATE', 'BIGINT', 'BIGINT', 'INTEGER', 'VARCHAR'], False)]\n"
     ]
    }
   ],
   "source": [
    "con.execute(\"DESCRIBE\")\n",
    "print(con.fetchall())"
   ]
  },
  {
   "cell_type": "markdown",
   "id": "fb3a8882",
   "metadata": {},
   "source": [
    "Obtain all listings from the data warehouse and save to pandas dataframe."
   ]
  },
  {
   "cell_type": "code",
   "execution_count": 6,
   "id": "7609c15d",
   "metadata": {},
   "outputs": [],
   "source": [
    "all_listings = con.execute(\"SELECT * from all_listings\").df()"
   ]
  },
  {
   "cell_type": "markdown",
   "id": "2cd0d17e",
   "metadata": {},
   "source": [
    "Obtain a list of neighborhoods from the neighborhoods table. and save to a pandas data frame."
   ]
  },
  {
   "cell_type": "markdown",
   "id": "27367b56",
   "metadata": {},
   "source": [
    "## Neighborhoods"
   ]
  },
  {
   "cell_type": "code",
   "execution_count": 7,
   "id": "e2284506",
   "metadata": {},
   "outputs": [],
   "source": [
    "neighborhoods = con.execute(\"SELECT * from neighborhoods\").df()"
   ]
  },
  {
   "cell_type": "markdown",
   "id": "cd395770",
   "metadata": {},
   "source": [
    "Display a list of the prices from all listings where price is less than $5."
   ]
  },
  {
   "cell_type": "code",
   "execution_count": 8,
   "id": "ad8a6498",
   "metadata": {},
   "outputs": [],
   "source": [
    "from tabulate import tabulate"
   ]
  },
  {
   "cell_type": "code",
   "execution_count": 9,
   "id": "7c8e79c2",
   "metadata": {},
   "outputs": [
    {
     "name": "stdout",
     "output_type": "stream",
     "text": [
      "╒══════════╤════════════════════════════════╤═════════╕\n",
      "│       id │ name                           │   price │\n",
      "╞══════════╪════════════════════════════════╪═════════╡\n",
      "│ 42738808 │ Capital View Hostel            │       0 │\n",
      "├──────────┼────────────────────────────────┼─────────┤\n",
      "│ 43036130 │ U Street Capsule Hostel        │       0 │\n",
      "├──────────┼────────────────────────────────┼─────────┤\n",
      "│ 46253554 │ citizenM Washington DC Capitol │       0 │\n",
      "├──────────┼────────────────────────────────┼─────────┤\n",
      "│ 43301430 │ Riggs Washington DC            │       0 │\n",
      "├──────────┼────────────────────────────────┼─────────┤\n",
      "│ 42065771 │ The LINE Hotel DC              │       0 │\n",
      "├──────────┼────────────────────────────────┼─────────┤\n",
      "│ 43308773 │ Viceroy Washington DC          │       0 │\n",
      "╘══════════╧════════════════════════════════╧═════════╛\n"
     ]
    }
   ],
   "source": [
    "con.execute(\"SELECT DISTINCT id, name, price from all_listings WHERE price < 5\")\n",
    "low_cost = list(con.fetchall())\n",
    "print(tabulate(low_cost, headers=[\"id\", \"name\", \"price\"], tablefmt='fancy_grid'))"
   ]
  },
  {
   "cell_type": "markdown",
   "id": "fe93853f",
   "metadata": {},
   "source": [
    "Display a list of data where price is greater than $5."
   ]
  },
  {
   "cell_type": "code",
   "execution_count": 10,
   "id": "df3077a4",
   "metadata": {},
   "outputs": [
    {
     "name": "stdout",
     "output_type": "stream",
     "text": [
      "╒════════════════════╤════════════════════════════════════════════════════╤═════════╕\n",
      "│                 id │ name                                               │   price │\n",
      "╞════════════════════╪════════════════════════════════════════════════════╪═════════╡\n",
      "│           14507861 │ Entire Capitol Hill Home - 5BR/4BA                 │    5995 │\n",
      "├────────────────────┼────────────────────────────────────────────────────┼─────────┤\n",
      "│           46004444 │ Yours Truly DC, 2 Bedroom Master Suite             │   10000 │\n",
      "├────────────────────┼────────────────────────────────────────────────────┼─────────┤\n",
      "│ 614471937104927680 │ NEW Listing! Unique House+Garden Rental, sleeps 40 │    7500 │\n",
      "├────────────────────┼────────────────────────────────────────────────────┼─────────┤\n",
      "│            8303678 │ Vista 2 Bedroom Rowhome FoggyBottom                │    6000 │\n",
      "├────────────────────┼────────────────────────────────────────────────────┼─────────┤\n",
      "│            8784458 │ Spacious condo in NW, DC                           │   10000 │\n",
      "├────────────────────┼────────────────────────────────────────────────────┼─────────┤\n",
      "│           15054700 │ Historic Georgetown Residence                      │   10000 │\n",
      "├────────────────────┼────────────────────────────────────────────────────┼─────────┤\n",
      "│           47965462 │ Posh 2 Bed/2 Bath near Boiling AFB/DC              │    8000 │\n",
      "├────────────────────┼────────────────────────────────────────────────────┼─────────┤\n",
      "│           48029085 │ The Dupont Diamond                                 │   24999 │\n",
      "├────────────────────┼────────────────────────────────────────────────────┼─────────┤\n",
      "│           49613123 │ The Rosa Parks Safehouse                           │    6500 │\n",
      "├────────────────────┼────────────────────────────────────────────────────┼─────────┤\n",
      "│           50152089 │ Glover Park Hotel Georgetown-King with Kitchenette │    9999 │\n",
      "├────────────────────┼────────────────────────────────────────────────────┼─────────┤\n",
      "│           50154046 │ Glover Park Hotel- 2 Queen studio with Kitchenette │    9228 │\n",
      "├────────────────────┼────────────────────────────────────────────────────┼─────────┤\n",
      "│           53042165 │ Amazing 2BR Condo @Mount Vernon Triangle w/Rooftop │    8000 │\n",
      "╘════════════════════╧════════════════════════════════════════════════════╧═════════╛\n"
     ]
    }
   ],
   "source": [
    "con.execute(\"SELECT DISTINCT id, name, price from all_listings WHERE price > 5000\")\n",
    "low_cost = list(con.fetchall())\n",
    "print(tabulate(low_cost, headers=[\"id\", \"name\", \"price\"], tablefmt='fancy_grid'))"
   ]
  },
  {
   "cell_type": "markdown",
   "id": "0a210563",
   "metadata": {},
   "source": [
    "## Secondary Data Source"
   ]
  },
  {
   "cell_type": "markdown",
   "id": "b90f6aa6",
   "metadata": {},
   "source": [
    "For our secondary data source, we wanted to answer the question of how safety of the neighborhood impacted price of an AirBnB. To understand safety, we used crime as the representation and decided to use crime data available through the Metropolitan Police Department.  "
   ]
  },
  {
   "cell_type": "markdown",
   "id": "f3c15935",
   "metadata": {},
   "source": [
    "Count the number of crimes in the crimes table. "
   ]
  },
  {
   "cell_type": "code",
   "execution_count": 14,
   "id": "a85f7ea7",
   "metadata": {},
   "outputs": [
    {
     "name": "stdout",
     "output_type": "stream",
     "text": [
      "[(27707,)]\n"
     ]
    }
   ],
   "source": [
    "con.execute(\"SELECT COUNT(*) FROM crimes\")\n",
    "print(con.fetchall())"
   ]
  },
  {
   "cell_type": "markdown",
   "id": "8c15d6f6",
   "metadata": {},
   "source": [
    "Explore the crimes data."
   ]
  },
  {
   "cell_type": "code",
   "execution_count": 18,
   "id": "128880da",
   "metadata": {},
   "outputs": [
    {
     "name": "stdout",
     "output_type": "stream",
     "text": [
      "      neighborhood_cluster  census_tract offensegroup  longitude  \\\n",
      "0               cluster 32        9603.0      violent -76.952775   \n",
      "1               cluster 39        9700.0      violent -76.985384   \n",
      "2               cluster 33        9906.0      violent -76.934174   \n",
      "3               cluster 21        3400.0      violent -77.012155   \n",
      "4               cluster 39        7304.0     property -76.992605   \n",
      "...                    ...           ...          ...        ...   \n",
      "27702           cluster 18        2400.0     property -77.022238   \n",
      "27703           cluster 34        7601.0     property -76.975962   \n",
      "27704           cluster 27        7201.0     property -77.001291   \n",
      "27705           cluster 25       10601.0     property -77.007482   \n",
      "27706           cluster 18        2301.0      violent -77.016427   \n",
      "\n",
      "                      end_date                offense_text     shift  \\\n",
      "0        11/6/2013, 1:07:00 PM                    homicide  midnight   \n",
      "1        1/9/2022, 11:31:00 PM                     robbery  midnight   \n",
      "2                          NaN  assault w/dangerous weapon  midnight   \n",
      "3      12/23/2021, 11:42:00 AM                     robbery       day   \n",
      "4        1/10/2022, 1:00:00 AM                theft f/auto  midnight   \n",
      "...                        ...                         ...       ...   \n",
      "27702     4/7/2022, 4:00:00 PM                theft f/auto       day   \n",
      "27703    4/5/2022, 12:00:00 PM                 theft/other       day   \n",
      "27704    3/20/2022, 8:31:00 PM         motor vehicle theft   evening   \n",
      "27705    3/20/2022, 8:20:00 PM         motor vehicle theft   evening   \n",
      "27706                      NaN                    homicide  midnight   \n",
      "\n",
      "         yblock  district  year  ...  \\\n",
      "0      135820.0       6.0  2022  ...   \n",
      "1      129538.0       7.0  2022  ...   \n",
      "2      135520.0       6.0  2022  ...   \n",
      "3      139389.0       3.0  2021  ...   \n",
      "4      130525.0       7.0  2022  ...   \n",
      "...         ...       ...   ...  ...   \n",
      "27702  140994.0       4.0  2022  ...   \n",
      "27703  133587.0       6.0  2022  ...   \n",
      "27704  134117.0       1.0  2022  ...   \n",
      "27705  137531.0       5.0  2022  ...   \n",
      "27706  141939.0       4.0  2021  ...   \n",
      "\n",
      "                                               block  start_date       ccn  \\\n",
      "0           3652 - 3701 block of minnesota avenue ne  2013-11-06  13160143   \n",
      "1            1200 - 1299 block of southern avenue se  2022-01-09  22003704   \n",
      "2                   4600 - 4899 block of b street se  2022-01-14  22006215   \n",
      "3               channing street nw and 1st street nw  2021-12-23  21186899   \n",
      "4              900 - 999 block of savannah street se  2022-01-09  22003763   \n",
      "...                                              ...         ...       ...   \n",
      "27702  700  - 799 block of rock creek church road nw  2022-04-06  22048550   \n",
      "27703             1600 - 1699 block of 21st place se  2022-03-22  22048595   \n",
      "27704            300 - 399 block of tingey street se  2022-03-20  22038793   \n",
      "27705                    1 - 99 block of m street ne  2022-03-20  22038795   \n",
      "27706          300  - 399 block of allison street nw  2020-09-29  20139232   \n",
      "\n",
      "                          offense  octo_record_id  anc  report_dat  method  \\\n",
      "0                        homicide     13160143-02   7F  2022-03-01     gun   \n",
      "1                         robbery     22003704-01   8E  2022-01-09     gun   \n",
      "2      assault w/dangerous weapon     22006215-01   7E  2022-01-15     gun   \n",
      "3                         robbery     21186899-01   5E  2021-12-23  others   \n",
      "4                    theft f/auto     22003763-01   8C  2022-01-10  others   \n",
      "...                           ...             ...  ...         ...     ...   \n",
      "27702                theft f/auto     22048550-01   4C  2022-04-08  others   \n",
      "27703                 theft/other     22048595-01   8A  2022-04-08  others   \n",
      "27704         motor vehicle theft     22038793-01   6D  2022-03-20  others   \n",
      "27705         motor vehicle theft     22038795-01   6C  2022-03-20  others   \n",
      "27706                    homicide     20139232-01   4C  2021-12-06     gun   \n",
      "\n",
      "                                 location   latitude  \n",
      "0      38.8902136604427,-76.9527754705246  38.890214  \n",
      "1       38.8336314126369,-76.985384321337  38.833631  \n",
      "2      38.8875021452893,-76.9341740177203  38.887502  \n",
      "3      38.9223733691024,-77.0121545274357  38.922373  \n",
      "4      38.8425234367258,-76.9926048586579  38.842523  \n",
      "...                                   ...        ...  \n",
      "27702  38.9368302224776,-77.0222378374905  38.936830  \n",
      "27703  38.8701049980621,-76.9759622631973  38.870105  \n",
      "27704  38.8748819179405,-77.0012907031214  38.874882  \n",
      "27705  38.9056362741086,-77.0074823883569  38.905636  \n",
      "27706  38.9453440176727,-77.0164265883286  38.945344  \n",
      "\n",
      "[27707 rows x 29 columns]\n"
     ]
    }
   ],
   "source": [
    "con.execute('select * from crimes;')\n",
    "crime_data = con.fetch_df()\n",
    "print(crime_data)"
   ]
  },
  {
   "cell_type": "markdown",
   "id": "9f59a83a",
   "metadata": {},
   "source": [
    "## Listings"
   ]
  },
  {
   "cell_type": "markdown",
   "id": "1b016c2f",
   "metadata": {},
   "source": [
    "The all_listings table includes multiple entries for the same listing. We may want to just deal with one listing for the whole year, taking the latest data. This would weight each listing the same."
   ]
  },
  {
   "cell_type": "markdown",
   "id": "03eb111e",
   "metadata": {},
   "source": [
    "Create a view for just the latest listings.\n",
    "\n",
    "First, we need to determine the latest listing for each listing (e.g. when was the latest data scrape for listing 3686?)"
   ]
  },
  {
   "cell_type": "code",
   "execution_count": null,
   "id": "4677c825",
   "metadata": {},
   "outputs": [],
   "source": [
    "con.execute('drop view if exists last_scraped')\n",
    "con.execute('create view last_scraped as select id, max(calendar_last_scraped) as last_scraped from all_listings group by id;')\n"
   ]
  },
  {
   "cell_type": "markdown",
   "id": "147ea83f",
   "metadata": {},
   "source": [
    "Now, we'll create a view called latest_listings that only takes the latest listing data for each listing."
   ]
  },
  {
   "cell_type": "code",
   "execution_count": null,
   "id": "971a93bf",
   "metadata": {},
   "outputs": [],
   "source": [
    "con.execute('drop view if exists latest_listings')\n",
    "con.execute('create view latest_listings as select all_listings.* from all_listings inner join last_scraped on all_listings.id = last_scraped.id and all_listings.calendar_last_scraped = last_scraped.last_scraped; ')"
   ]
  },
  {
   "cell_type": "markdown",
   "id": "eef65528",
   "metadata": {},
   "source": [
    "How many listings are there compared to the entire data set?"
   ]
  },
  {
   "cell_type": "code",
   "execution_count": null,
   "id": "bc521be2",
   "metadata": {},
   "outputs": [],
   "source": [
    "con.execute(\"select count(id) from latest_listings;\")\n",
    "print(con.fetchall())"
   ]
  },
  {
   "cell_type": "markdown",
   "id": "a63d13e9",
   "metadata": {},
   "source": [
    "There were 28076 total rows in the all_listings data."
   ]
  },
  {
   "cell_type": "code",
   "execution_count": null,
   "id": "1e4c4b55",
   "metadata": {},
   "outputs": [],
   "source": [
    "con.execute(\"select count(id) from latest_listings;\") print(con.fetchall())"
   ]
  },
  {
   "cell_type": "markdown",
   "id": "6af49892",
   "metadata": {},
   "source": [
    "The latest_listings view, which only has one row per listing, has just 10560 rows, less than half of the original data set."
   ]
  },
  {
   "cell_type": "markdown",
   "id": "7dd50d17",
   "metadata": {},
   "source": [
    "## Reviews"
   ]
  },
  {
   "cell_type": "markdown",
   "id": "68fea0a6",
   "metadata": {},
   "source": [
    "Count the number of reviews data from the table."
   ]
  },
  {
   "cell_type": "code",
   "execution_count": 24,
   "id": "40e091b2",
   "metadata": {},
   "outputs": [
    {
     "name": "stdout",
     "output_type": "stream",
     "text": [
      "[(321209,)]\n"
     ]
    }
   ],
   "source": [
    "con.execute(\"select count(reviewer_id) from reviews;\")\n",
    "print(con.fetchall())"
   ]
  },
  {
   "cell_type": "markdown",
   "id": "f99ebf59",
   "metadata": {},
   "source": [
    "## Calendar"
   ]
  },
  {
   "cell_type": "markdown",
   "id": "128bb6b0",
   "metadata": {},
   "source": [
    "Get a count of calendar data from the database table."
   ]
  },
  {
   "cell_type": "code",
   "execution_count": 27,
   "id": "b952871b",
   "metadata": {},
   "outputs": [
    {
     "name": "stdout",
     "output_type": "stream",
     "text": [
      "[(10245531,)]\n"
     ]
    }
   ],
   "source": [
    "con.execute(\"select count(date) from calendar;\")\n",
    "print(con.fetchall())"
   ]
  },
  {
   "cell_type": "markdown",
   "id": "a3e872a9",
   "metadata": {},
   "source": [
    "The calendar data is very large compared to the other tables. This could indicate many duplicates or redundant data. "
   ]
  },
  {
   "cell_type": "markdown",
   "id": "18c5492d",
   "metadata": {},
   "source": [
    "Let's look at a description of the columns in the calendar table."
   ]
  },
  {
   "cell_type": "code",
   "execution_count": 32,
   "id": "096aa990",
   "metadata": {},
   "outputs": [
    {
     "name": "stdout",
     "output_type": "stream",
     "text": [
      "[('listing_id', 'BIGINT', 'YES', None, None, None), ('date', 'DATE', 'YES', None, None, None), ('available', 'VARCHAR', 'YES', None, None, None), ('price', 'INTEGER', 'YES', None, None, None), ('adjusted_price', 'INTEGER', 'YES', None, None, None), ('minimum_nights', 'INTEGER', 'YES', None, None, None), ('maximum_nights', 'INTEGER', 'YES', None, None, None)]\n"
     ]
    }
   ],
   "source": [
    "con.execute(\"DESCRIBE calendar\")\n",
    "print(con.fetchall())"
   ]
  },
  {
   "cell_type": "markdown",
   "id": "b7e4c7f3",
   "metadata": {},
   "source": [
    "Retrieve the number of distinct dates in the calendar."
   ]
  },
  {
   "cell_type": "code",
   "execution_count": 29,
   "id": "835c592a",
   "metadata": {},
   "outputs": [
    {
     "name": "stdout",
     "output_type": "stream",
     "text": [
      "[(datetime.date(2022, 6, 24),), (datetime.date(2022, 7, 3),), (datetime.date(2022, 7, 14),), (datetime.date(2022, 8, 11),), (datetime.date(2022, 8, 16),), (datetime.date(2022, 9, 21),), (datetime.date(2022, 10, 4),), (datetime.date(2022, 10, 5),), (datetime.date(2022, 10, 17),), (datetime.date(2022, 11, 3),), (datetime.date(2022, 11, 11),), (datetime.date(2022, 11, 14),), (datetime.date(2022, 11, 28),), (datetime.date(2022, 11, 29),), (datetime.date(2022, 12, 11),), (datetime.date(2022, 12, 12),), (datetime.date(2021, 12, 20),), (datetime.date(2022, 1, 4),), (datetime.date(2022, 1, 13),), (datetime.date(2022, 1, 15),), (datetime.date(2022, 1, 16),), (datetime.date(2022, 1, 25),), (datetime.date(2022, 1, 30),), (datetime.date(2022, 3, 26),), (datetime.date(2022, 5, 24),), (datetime.date(2022, 5, 31),), (datetime.date(2022, 6, 3),), (datetime.date(2022, 6, 13),), (datetime.date(2022, 1, 6),), (datetime.date(2022, 1, 9),), (datetime.date(2022, 3, 31),), (datetime.date(2023, 3, 6),), (datetime.date(2023, 3, 12),), (datetime.date(2023, 3, 15),), (datetime.date(2023, 3, 26),), (datetime.date(2023, 5, 14),), (datetime.date(2023, 5, 19),), (datetime.date(2023, 6, 9),), (datetime.date(2023, 6, 18),), (datetime.date(2023, 7, 3),), (datetime.date(2023, 7, 5),), (datetime.date(2023, 7, 26),), (datetime.date(2023, 8, 4),), (datetime.date(2023, 8, 13),), (datetime.date(2023, 9, 2),), (datetime.date(2023, 9, 5),), (datetime.date(2023, 9, 9),), (datetime.date(2022, 12, 31),), (datetime.date(2023, 1, 9),), (datetime.date(2023, 2, 19),), (datetime.date(2023, 1, 17),), (datetime.date(2023, 2, 26),), (datetime.date(2023, 5, 26),), (datetime.date(2023, 6, 5),), (datetime.date(2023, 7, 23),), (datetime.date(2022, 8, 9),), (datetime.date(2022, 8, 20),), (datetime.date(2022, 8, 23),), (datetime.date(2022, 9, 1),), (datetime.date(2022, 9, 6),), (datetime.date(2022, 9, 7),), (datetime.date(2022, 9, 8),), (datetime.date(2022, 9, 25),), (datetime.date(2022, 10, 6),), (datetime.date(2022, 10, 10),), (datetime.date(2022, 10, 12),), (datetime.date(2022, 10, 30),), (datetime.date(2022, 11, 18),), (datetime.date(2022, 11, 23),), (datetime.date(2021, 12, 19),), (datetime.date(2021, 12, 29),), (datetime.date(2022, 1, 5),), (datetime.date(2022, 2, 15),), (datetime.date(2022, 3, 11),), (datetime.date(2022, 3, 17),), (datetime.date(2022, 5, 3),), (datetime.date(2022, 5, 9),), (datetime.date(2022, 6, 12),), (datetime.date(2022, 4, 1),), (datetime.date(2022, 6, 15),), (datetime.date(2023, 2, 28),), (datetime.date(2023, 3, 13),), (datetime.date(2023, 3, 24),), (datetime.date(2023, 4, 14),), (datetime.date(2023, 4, 19),), (datetime.date(2023, 5, 6),), (datetime.date(2023, 5, 11),), (datetime.date(2023, 6, 4),), (datetime.date(2023, 8, 18),), (datetime.date(2023, 9, 12),), (datetime.date(2023, 1, 11),), (datetime.date(2023, 1, 20),), (datetime.date(2023, 1, 27),), (datetime.date(2023, 2, 6),), (datetime.date(2023, 8, 25),), (datetime.date(2023, 9, 7),), (datetime.date(2023, 8, 8),), (datetime.date(2022, 6, 26),), (datetime.date(2022, 7, 10),), (datetime.date(2022, 7, 18),), (datetime.date(2022, 7, 23),), (datetime.date(2022, 7, 31),), (datetime.date(2022, 8, 14),), (datetime.date(2022, 8, 27),), (datetime.date(2022, 9, 14),), (datetime.date(2022, 1, 8),), (datetime.date(2022, 2, 5),), (datetime.date(2022, 2, 8),), (datetime.date(2022, 2, 22),), (datetime.date(2022, 3, 4),), (datetime.date(2022, 4, 22),), (datetime.date(2022, 5, 11),), (datetime.date(2022, 9, 28),), (datetime.date(2022, 11, 25),), (datetime.date(2022, 10, 26),), (datetime.date(2023, 2, 24),), (datetime.date(2023, 4, 4),), (datetime.date(2023, 4, 9),), (datetime.date(2023, 4, 20),), (datetime.date(2023, 5, 8),), (datetime.date(2023, 6, 23),), (datetime.date(2023, 7, 24),), (datetime.date(2023, 8, 14),), (datetime.date(2022, 12, 20),), (datetime.date(2023, 1, 3),), (datetime.date(2023, 1, 24),), (datetime.date(2023, 2, 16),), (datetime.date(2023, 3, 20),), (datetime.date(2023, 8, 1),), (datetime.date(2023, 1, 29),), (datetime.date(2022, 6, 20),), (datetime.date(2022, 7, 19),), (datetime.date(2022, 7, 20),), (datetime.date(2022, 7, 24),), (datetime.date(2022, 7, 26),), (datetime.date(2022, 8, 2),), (datetime.date(2022, 8, 28),), (datetime.date(2022, 10, 2),), (datetime.date(2022, 10, 24),), (datetime.date(2022, 10, 28),), (datetime.date(2022, 11, 8),), (datetime.date(2022, 11, 9),), (datetime.date(2022, 11, 21),), (datetime.date(2022, 12, 3),), (datetime.date(2022, 12, 14),), (datetime.date(2021, 12, 18),), (datetime.date(2021, 12, 28),), (datetime.date(2022, 1, 29),), (datetime.date(2022, 2, 9),), (datetime.date(2022, 3, 25),), (datetime.date(2022, 4, 4),), (datetime.date(2022, 4, 6),), (datetime.date(2022, 4, 13),), (datetime.date(2022, 4, 21),), (datetime.date(2022, 5, 12),), (datetime.date(2022, 5, 14),), (datetime.date(2022, 5, 20),), (datetime.date(2022, 5, 25),), (datetime.date(2022, 6, 7),), (datetime.date(2022, 8, 8),), (datetime.date(2022, 1, 7),), (datetime.date(2023, 3, 7),), (datetime.date(2023, 3, 16),), (datetime.date(2023, 5, 3),), (datetime.date(2023, 5, 21),), (datetime.date(2023, 5, 24),), (datetime.date(2023, 6, 11),), (datetime.date(2023, 6, 25),), (datetime.date(2023, 6, 27),), (datetime.date(2023, 7, 11),), (datetime.date(2023, 7, 16),), (datetime.date(2023, 7, 27),), (datetime.date(2023, 7, 28),), (datetime.date(2022, 12, 15),), (datetime.date(2023, 1, 16),), (datetime.date(2023, 1, 18),), (datetime.date(2023, 2, 14),), (datetime.date(2023, 7, 20),), (datetime.date(2022, 7, 11),), (datetime.date(2022, 7, 13),), (datetime.date(2022, 7, 15),), (datetime.date(2022, 9, 22),), (datetime.date(2022, 10, 20),), (datetime.date(2021, 12, 30),), (datetime.date(2021, 12, 31),), (datetime.date(2022, 1, 11),), (datetime.date(2022, 1, 21),), (datetime.date(2022, 2, 11),), (datetime.date(2022, 2, 14),), (datetime.date(2022, 3, 9),), (datetime.date(2022, 3, 14),), (datetime.date(2022, 4, 7),), (datetime.date(2022, 4, 12),), (datetime.date(2022, 4, 15),), (datetime.date(2022, 5, 6),), (datetime.date(2022, 5, 7),), (datetime.date(2022, 5, 19),), (datetime.date(2022, 9, 19),), (datetime.date(2022, 4, 11),), (datetime.date(2023, 2, 23),), (datetime.date(2023, 2, 25),), (datetime.date(2023, 4, 1),), (datetime.date(2023, 5, 15),), (datetime.date(2023, 5, 20),), (datetime.date(2023, 6, 15),), (datetime.date(2023, 6, 19),), (datetime.date(2023, 7, 10),), (datetime.date(2023, 7, 19),), (datetime.date(2023, 9, 8),), (datetime.date(2022, 12, 18),), (datetime.date(2023, 1, 12),), (datetime.date(2023, 2, 2),), (datetime.date(2023, 2, 13),), (datetime.date(2023, 2, 21),), (datetime.date(2023, 6, 2),), (datetime.date(2023, 7, 31),), (datetime.date(2023, 7, 17),), (datetime.date(2022, 6, 30),), (datetime.date(2022, 7, 5),), (datetime.date(2022, 7, 17),), (datetime.date(2022, 7, 21),), (datetime.date(2022, 7, 27),), (datetime.date(2022, 8, 6),), (datetime.date(2022, 8, 26),), (datetime.date(2022, 9, 24),), (datetime.date(2022, 11, 2),), (datetime.date(2022, 11, 10),), (datetime.date(2022, 12, 13),), (datetime.date(2021, 12, 17),), (datetime.date(2022, 1, 20),), (datetime.date(2022, 2, 3),), (datetime.date(2022, 2, 16),), (datetime.date(2022, 2, 25),), (datetime.date(2022, 2, 27),), (datetime.date(2022, 3, 19),), (datetime.date(2022, 3, 20),), (datetime.date(2022, 4, 30),), (datetime.date(2022, 5, 4),), (datetime.date(2022, 5, 26),), (datetime.date(2023, 4, 5),), (datetime.date(2023, 4, 15),), (datetime.date(2023, 4, 16),), (datetime.date(2023, 5, 10),), (datetime.date(2023, 7, 30),), (datetime.date(2023, 8, 6),), (datetime.date(2023, 8, 10),), (datetime.date(2023, 9, 10),), (datetime.date(2022, 12, 22),), (datetime.date(2022, 12, 30),), (datetime.date(2023, 1, 15),), (datetime.date(2023, 2, 20),), (datetime.date(2023, 6, 21),), (datetime.date(2023, 7, 22),), (datetime.date(2022, 5, 15),), (datetime.date(2022, 7, 4),), (datetime.date(2022, 7, 7),), (datetime.date(2022, 8, 5),), (datetime.date(2022, 8, 18),), (datetime.date(2022, 8, 21),), (datetime.date(2022, 9, 12),), (datetime.date(2022, 10, 18),), (datetime.date(2022, 10, 29),), (datetime.date(2022, 11, 4),), (datetime.date(2022, 11, 15),), (datetime.date(2022, 11, 24),), (datetime.date(2022, 11, 30),), (datetime.date(2021, 12, 25),), (datetime.date(2022, 1, 10),), (datetime.date(2022, 2, 12),), (datetime.date(2022, 2, 13),), (datetime.date(2022, 3, 13),), (datetime.date(2022, 3, 21),), (datetime.date(2022, 3, 30),), (datetime.date(2022, 4, 19),), (datetime.date(2022, 4, 29),), (datetime.date(2022, 11, 22),), (datetime.date(2022, 1, 19),), (datetime.date(2022, 3, 24),), (datetime.date(2022, 6, 5),), (datetime.date(2023, 3, 3),), (datetime.date(2023, 3, 14),), (datetime.date(2023, 3, 27),), (datetime.date(2023, 4, 21),), (datetime.date(2023, 5, 25),), (datetime.date(2023, 5, 31),), (datetime.date(2023, 6, 28),), (datetime.date(2023, 6, 29),), (datetime.date(2023, 8, 19),), (datetime.date(2023, 8, 21),), (datetime.date(2022, 12, 21),), (datetime.date(2022, 12, 23),), (datetime.date(2022, 12, 24),), (datetime.date(2022, 12, 26),), (datetime.date(2022, 12, 28),), (datetime.date(2023, 1, 2),), (datetime.date(2023, 1, 19),), (datetime.date(2023, 1, 21),), (datetime.date(2023, 2, 4),), (datetime.date(2023, 2, 18),), (datetime.date(2023, 5, 23),), (datetime.date(2022, 12, 17),), (datetime.date(2022, 5, 18),), (datetime.date(2023, 8, 24),), (datetime.date(2022, 6, 21),), (datetime.date(2022, 6, 23),), (datetime.date(2022, 7, 12),), (datetime.date(2022, 8, 10),), (datetime.date(2022, 9, 9),), (datetime.date(2022, 9, 16),), (datetime.date(2022, 9, 20),), (datetime.date(2022, 10, 16),), (datetime.date(2022, 10, 22),), (datetime.date(2022, 10, 25),), (datetime.date(2022, 11, 13),), (datetime.date(2022, 12, 2),), (datetime.date(2022, 12, 6),), (datetime.date(2021, 12, 16),), (datetime.date(2022, 2, 6),), (datetime.date(2022, 2, 7),), (datetime.date(2022, 2, 17),), (datetime.date(2022, 5, 17),), (datetime.date(2022, 5, 23),), (datetime.date(2022, 6, 8),), (datetime.date(2022, 5, 27),), (datetime.date(2023, 2, 27),), (datetime.date(2023, 3, 4),), (datetime.date(2023, 5, 9),), (datetime.date(2023, 5, 12),), (datetime.date(2023, 5, 28),), (datetime.date(2023, 6, 13),), (datetime.date(2023, 6, 16),), (datetime.date(2023, 6, 24),), (datetime.date(2023, 7, 4),), (datetime.date(2023, 7, 21),), (datetime.date(2023, 8, 5),), (datetime.date(2023, 8, 7),), (datetime.date(2023, 8, 27),), (datetime.date(2022, 12, 19),), (datetime.date(2023, 1, 31),), (datetime.date(2023, 2, 1),), (datetime.date(2023, 8, 12),), (datetime.date(2023, 8, 15),), (datetime.date(2023, 4, 13),), (datetime.date(2023, 1, 30),), (datetime.date(2022, 7, 1),), (datetime.date(2022, 8, 3),), (datetime.date(2022, 8, 4),), (datetime.date(2022, 8, 15),), (datetime.date(2022, 9, 3),), (datetime.date(2022, 9, 18),), (datetime.date(2021, 12, 21),), (datetime.date(2021, 12, 27),), (datetime.date(2022, 1, 2),), (datetime.date(2022, 1, 3),), (datetime.date(2022, 1, 18),), (datetime.date(2022, 1, 24),), (datetime.date(2022, 3, 8),), (datetime.date(2022, 3, 15),), (datetime.date(2022, 4, 18),), (datetime.date(2022, 5, 10),), (datetime.date(2022, 12, 7),), (datetime.date(2022, 3, 28),), (datetime.date(2023, 3, 9),), (datetime.date(2023, 3, 29),), (datetime.date(2023, 4, 6),), (datetime.date(2023, 4, 18),), (datetime.date(2023, 4, 23),), (datetime.date(2023, 5, 30),), (datetime.date(2023, 6, 1),), (datetime.date(2023, 6, 6),), (datetime.date(2023, 6, 26),), (datetime.date(2023, 8, 17),), (datetime.date(2023, 8, 20),), (datetime.date(2023, 2, 8),), (datetime.date(2023, 2, 17),), (datetime.date(2023, 6, 22),), (datetime.date(2023, 7, 18),), (datetime.date(2023, 9, 1),), (datetime.date(2023, 8, 30),), (datetime.date(2023, 7, 25),), (datetime.date(2023, 1, 25),), (datetime.date(2022, 6, 18),), (datetime.date(2022, 6, 19),), (datetime.date(2022, 6, 27),), (datetime.date(2022, 6, 28),), (datetime.date(2022, 7, 2),), (datetime.date(2022, 7, 6),), (datetime.date(2022, 7, 22),), (datetime.date(2022, 7, 25),), (datetime.date(2022, 7, 28),), (datetime.date(2022, 7, 30),), (datetime.date(2022, 8, 22),), (datetime.date(2022, 10, 3),), (datetime.date(2022, 10, 14),), (datetime.date(2022, 11, 6),), (datetime.date(2022, 11, 16),), (datetime.date(2022, 11, 19),), (datetime.date(2021, 12, 15),), (datetime.date(2021, 12, 24),), (datetime.date(2022, 1, 23),), (datetime.date(2022, 1, 27),), (datetime.date(2022, 2, 1),), (datetime.date(2022, 2, 20),), (datetime.date(2022, 2, 21),), (datetime.date(2022, 4, 5),), (datetime.date(2022, 4, 9),), (datetime.date(2022, 4, 10),), (datetime.date(2022, 4, 27),), (datetime.date(2022, 5, 2),), (datetime.date(2022, 4, 23),), (datetime.date(2023, 3, 1),), (datetime.date(2023, 3, 17),), (datetime.date(2023, 3, 23),), (datetime.date(2023, 3, 25),), (datetime.date(2023, 4, 10),), (datetime.date(2023, 4, 17),), (datetime.date(2023, 5, 1),), (datetime.date(2023, 5, 27),), (datetime.date(2023, 6, 8),), (datetime.date(2023, 7, 15),), (datetime.date(2023, 8, 2),), (datetime.date(2022, 12, 27),), (datetime.date(2023, 1, 1),), (datetime.date(2023, 1, 13),), (datetime.date(2023, 3, 8),), (datetime.date(2023, 8, 28),), (datetime.date(2023, 4, 29),), (datetime.date(2023, 8, 23),), (datetime.date(2023, 4, 7),), (datetime.date(2022, 6, 22),), (datetime.date(2022, 8, 1),), (datetime.date(2022, 8, 7),), (datetime.date(2022, 8, 29),), (datetime.date(2022, 9, 5),), (datetime.date(2022, 9, 11),), (datetime.date(2022, 9, 17),), (datetime.date(2022, 9, 27),), (datetime.date(2022, 10, 1),), (datetime.date(2022, 10, 7),), (datetime.date(2022, 10, 31),), (datetime.date(2022, 11, 1),), (datetime.date(2022, 11, 17),), (datetime.date(2022, 12, 10),), (datetime.date(2022, 2, 23),), (datetime.date(2022, 3, 1),), (datetime.date(2022, 3, 3),), (datetime.date(2022, 3, 23),), (datetime.date(2022, 4, 17),), (datetime.date(2022, 6, 4),), (datetime.date(2022, 5, 8),), (datetime.date(2022, 9, 4),), (datetime.date(2023, 2, 22),), (datetime.date(2023, 3, 2),), (datetime.date(2023, 3, 10),), (datetime.date(2023, 3, 19),), (datetime.date(2023, 3, 30),), (datetime.date(2023, 4, 8),), (datetime.date(2023, 6, 14),), (datetime.date(2023, 7, 1),), (datetime.date(2023, 7, 2),), (datetime.date(2023, 7, 9),), (datetime.date(2023, 8, 16),), (datetime.date(2023, 8, 31),), (datetime.date(2023, 1, 6),), (datetime.date(2023, 7, 14),), (datetime.date(2023, 1, 7),), (datetime.date(2023, 1, 23),), (datetime.date(2023, 7, 13),), (datetime.date(2022, 7, 8),), (datetime.date(2022, 8, 25),), (datetime.date(2022, 9, 30),), (datetime.date(2022, 10, 9),), (datetime.date(2022, 10, 23),), (datetime.date(2022, 11, 5),), (datetime.date(2022, 1, 22),), (datetime.date(2022, 5, 21),), (datetime.date(2022, 6, 1),), (datetime.date(2022, 6, 16),), (datetime.date(2022, 3, 6),), (datetime.date(2023, 3, 5),), (datetime.date(2023, 3, 31),), (datetime.date(2023, 4, 2),), (datetime.date(2023, 4, 12),), (datetime.date(2023, 4, 24),), (datetime.date(2023, 4, 26),), (datetime.date(2023, 5, 17),), (datetime.date(2023, 6, 7),), (datetime.date(2023, 6, 12),), (datetime.date(2023, 8, 11),), (datetime.date(2023, 8, 29),), (datetime.date(2023, 9, 4),), (datetime.date(2022, 12, 16),), (datetime.date(2023, 2, 11),), (datetime.date(2023, 7, 8),), (datetime.date(2023, 6, 30),), (datetime.date(2023, 7, 12),), (datetime.date(2022, 6, 17),), (datetime.date(2022, 9, 23),), (datetime.date(2022, 9, 26),), (datetime.date(2022, 10, 21),), (datetime.date(2022, 12, 5),), (datetime.date(2022, 2, 4),), (datetime.date(2022, 2, 19),), (datetime.date(2022, 2, 26),), (datetime.date(2022, 2, 28),), (datetime.date(2022, 3, 7),), (datetime.date(2022, 3, 10),), (datetime.date(2022, 3, 16),), (datetime.date(2022, 3, 18),), (datetime.date(2022, 3, 22),), (datetime.date(2022, 3, 29),), (datetime.date(2022, 4, 26),), (datetime.date(2022, 5, 28),), (datetime.date(2022, 6, 10),), (datetime.date(2022, 3, 27),), (datetime.date(2022, 5, 1),), (datetime.date(2023, 4, 25),), (datetime.date(2023, 4, 27),), (datetime.date(2023, 4, 28),), (datetime.date(2023, 4, 30),), (datetime.date(2023, 5, 4),), (datetime.date(2023, 1, 5),), (datetime.date(2023, 2, 12),), (datetime.date(2023, 5, 29),), (datetime.date(2023, 5, 2),), (datetime.date(2023, 1, 28),), (datetime.date(2023, 1, 4),), (datetime.date(2023, 4, 11),), (datetime.date(2022, 8, 12),), (datetime.date(2022, 8, 17),), (datetime.date(2022, 8, 19),), (datetime.date(2022, 9, 2),), (datetime.date(2022, 9, 10),), (datetime.date(2022, 9, 15),), (datetime.date(2022, 10, 13),), (datetime.date(2022, 11, 7),), (datetime.date(2022, 11, 26),), (datetime.date(2021, 12, 22),), (datetime.date(2021, 12, 26),), (datetime.date(2022, 1, 17),), (datetime.date(2022, 2, 2),), (datetime.date(2022, 2, 10),), (datetime.date(2022, 3, 5),), (datetime.date(2022, 3, 12),), (datetime.date(2022, 4, 3),), (datetime.date(2022, 4, 8),), (datetime.date(2022, 4, 16),), (datetime.date(2022, 4, 20),), (datetime.date(2022, 4, 24),), (datetime.date(2022, 4, 28),), (datetime.date(2022, 5, 5),), (datetime.date(2022, 5, 30),), (datetime.date(2022, 6, 9),), (datetime.date(2022, 10, 15),), (datetime.date(2022, 2, 24),), (datetime.date(2023, 3, 11),), (datetime.date(2023, 4, 22),), (datetime.date(2023, 5, 16),), (datetime.date(2023, 6, 10),), (datetime.date(2023, 6, 20),), (datetime.date(2023, 7, 7),), (datetime.date(2023, 8, 3),), (datetime.date(2023, 1, 10),), (datetime.date(2023, 1, 14),), (datetime.date(2023, 2, 9),), (datetime.date(2023, 2, 15),), (datetime.date(2023, 6, 17),), (datetime.date(2023, 9, 6),), (datetime.date(2023, 2, 7),), (datetime.date(2022, 10, 27),), (datetime.date(2022, 6, 25),), (datetime.date(2022, 7, 9),), (datetime.date(2022, 7, 16),), (datetime.date(2022, 8, 24),), (datetime.date(2022, 8, 30),), (datetime.date(2022, 10, 8),), (datetime.date(2022, 10, 11),), (datetime.date(2022, 10, 19),), (datetime.date(2022, 11, 12),), (datetime.date(2022, 12, 4),), (datetime.date(2022, 12, 8),), (datetime.date(2021, 12, 23),), (datetime.date(2022, 1, 14),), (datetime.date(2022, 1, 26),), (datetime.date(2022, 1, 31),), (datetime.date(2022, 2, 18),), (datetime.date(2022, 4, 25),), (datetime.date(2022, 5, 22),), (datetime.date(2022, 5, 29),), (datetime.date(2022, 6, 2),), (datetime.date(2022, 6, 6),), (datetime.date(2022, 6, 14),), (datetime.date(2022, 9, 13),), (datetime.date(2022, 4, 2),), (datetime.date(2022, 4, 14),), (datetime.date(2023, 3, 21),), (datetime.date(2023, 3, 22),), (datetime.date(2023, 6, 3),), (datetime.date(2023, 8, 9),), (datetime.date(2023, 8, 26),), (datetime.date(2023, 9, 11),), (datetime.date(2022, 12, 29),), (datetime.date(2023, 2, 10),), (datetime.date(2022, 12, 25),), (datetime.date(2022, 6, 29),), (datetime.date(2022, 7, 29),), (datetime.date(2022, 8, 13),), (datetime.date(2022, 8, 31),), (datetime.date(2022, 11, 20),), (datetime.date(2022, 11, 27),), (datetime.date(2022, 12, 1),), (datetime.date(2022, 12, 9),), (datetime.date(2022, 1, 1),), (datetime.date(2022, 1, 12),), (datetime.date(2022, 1, 28),), (datetime.date(2022, 3, 2),), (datetime.date(2022, 5, 13),), (datetime.date(2022, 6, 11),), (datetime.date(2022, 9, 29),), (datetime.date(2022, 5, 16),), (datetime.date(2023, 3, 28),), (datetime.date(2023, 4, 3),), (datetime.date(2023, 5, 5),), (datetime.date(2023, 5, 13),), (datetime.date(2023, 5, 18),), (datetime.date(2023, 5, 22),), (datetime.date(2023, 7, 6),), (datetime.date(2023, 8, 22),), (datetime.date(2023, 9, 3),), (datetime.date(2023, 9, 13),), (datetime.date(2023, 1, 22),), (datetime.date(2023, 1, 26),), (datetime.date(2023, 2, 3),), (datetime.date(2023, 2, 5),), (datetime.date(2023, 3, 18),), (datetime.date(2023, 5, 7),), (datetime.date(2023, 7, 29),), (datetime.date(2023, 9, 14),), (datetime.date(2023, 1, 8),)]\n"
     ]
    }
   ],
   "source": [
    "con.execute(\"SELECT DISTINCT date FROM calendar\")\n",
    "print(con.fetchall())"
   ]
  }
 ],
 "metadata": {
  "kernelspec": {
   "display_name": "Python 3 (ipykernel)",
   "language": "python",
   "name": "python3"
  },
  "language_info": {
   "codemirror_mode": {
    "name": "ipython",
    "version": 3
   },
   "file_extension": ".py",
   "mimetype": "text/x-python",
   "name": "python",
   "nbconvert_exporter": "python",
   "pygments_lexer": "ipython3",
   "version": "3.10.6"
  }
 },
 "nbformat": 4,
 "nbformat_minor": 5
}
