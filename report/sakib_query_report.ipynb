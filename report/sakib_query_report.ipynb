{
 "cells": [
  {
   "cell_type": "markdown",
   "id": "ee6fe4d9",
   "metadata": {},
   "source": [
    "# Ask - Queries"
   ]
  },
  {
   "cell_type": "markdown",
   "id": "aaa7d184",
   "metadata": {},
   "source": [
    "Our team wanted to provide a pricing tool to individuals in Washington D.C. who are considering listing their homes on AirBnB. For the average host, pricing is a difficult process and understanding all the factors that impact pricing strategy can be difficult. Using the AirBnB listing data for the last four quarters, we wanted to understand which attributes had the most impact on pricing for a typical listing. A typical listing is defined as one with a price between $0-1000 per night, as that comprises 98% of all listings in Washington D.C.  "
   ]
  },
  {
   "cell_type": "markdown",
   "id": "9d5bcd51",
   "metadata": {},
   "source": [
    "An important consideration for pricing a short-term rental is location, we know that our hosts want to be competitive with other listings in their neighborhoods. Our team decided that to give our predictive model an edge in accuracy, we wanted to include crime as a secondary data source as we believed that could yield benefits to the pricing power of listings. We believe that with sufficient crime location data and using other information from existing listings, we will see that crime and location are two factors with a positive impact on the price of AirBnBs."
   ]
  },
  {
   "cell_type": "markdown",
   "id": "6bc5bb74",
   "metadata": {},
   "source": [
    "The target variable for our model is price and the secondary data set is crime data from the Washington, DC Metropolitan Police Department. \n",
    "\n",
    "We endeavored to answer the following questions:\n",
    "\n",
    "1. What attributes have the most impact on the price of an AirBnB listing?\n",
    "2. What is the role of the location attribute (lat/log) in listing prices?\n",
    "3. Does the crime rate of a neighborhood impact the price of AirBnB listings in that neighborhood? \n",
    " "
   ]
  },
  {
   "cell_type": "code",
   "execution_count": null,
   "id": "ab01225a",
   "metadata": {},
   "outputs": [],
   "source": []
  }
 ],
 "metadata": {
  "kernelspec": {
   "display_name": "Python 3 (ipykernel)",
   "language": "python",
   "name": "python3"
  },
  "language_info": {
   "codemirror_mode": {
    "name": "ipython",
    "version": 3
   },
   "file_extension": ".py",
   "mimetype": "text/x-python",
   "name": "python",
   "nbconvert_exporter": "python",
   "pygments_lexer": "ipython3",
   "version": "3.10.6"
  }
 },
 "nbformat": 4,
 "nbformat_minor": 5
}
